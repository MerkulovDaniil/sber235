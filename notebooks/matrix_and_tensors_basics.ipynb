{
 "cells": [
  {
   "attachments": {},
   "cell_type": "markdown",
   "metadata": {
    "code_folding": [
     1
    ],
    "slideshow": {
     "slide_type": "slide"
    }
   },
   "source": [
    "# Matrix rank, low-rank approximation, SVD"
   ]
  },
  {
   "attachments": {},
   "cell_type": "markdown",
   "metadata": {
    "slideshow": {
     "slide_type": "slide"
    }
   },
   "source": [
    "## Matrix and linear spaces\n",
    "- A matrix can be considered as a sequence of vectors that are columns of a matrix:\n",
    "\n",
    "$$ A = [a_1, \\ldots, a_m], $$\n",
    "\n",
    "where $a_m \\in \\mathbb{C}^{n\\times 1}$.  \n",
    "\n",
    "- A matrix-by-vector product is equivalent to taking a linear combination of those columns \n",
    "\n",
    "$$ y =  Ax \\quad \\Longleftrightarrow \\quad y = a_1 x_1 + a_2 x_2 + \\ldots +a_m x_m. $$\n",
    "\n",
    "- This is a special case of **block matrix notation** (columns are also blocks) that we have already seen (blocking to fit cache memory, Strassen algorithm)."
   ]
  },
  {
   "attachments": {},
   "cell_type": "markdown",
   "metadata": {
    "slideshow": {
     "slide_type": "slide"
    }
   },
   "source": [
    "## Matrix rank\n",
    "\n",
    "- Rank of a matrix $A$ is a maximal number of linearly independent *columns* in a matrix $A$, or the **dimension of its column space** $= \\text{dim} \\, \\text{im}(A)$.  \n",
    "\n",
    "- You can also use linear combination of *rows* to define the rank, i.e. formally there are two ranks: column rank and row rank of a matrix."
   ]
  },
  {
   "attachments": {},
   "cell_type": "markdown",
   "metadata": {
    "slideshow": {
     "slide_type": "slide"
    }
   },
   "source": [
    "## Full-rank matrix\n",
    "\n",
    "- A matrix $A \\in \\mathbb{R}^{m \\times n}$ is called of **full-rank**, if $\\mathrm{rank}(A) = \\min(m, n)$."
   ]
  },
  {
   "attachments": {},
   "cell_type": "markdown",
   "metadata": {
    "slideshow": {
     "slide_type": "slide"
    }
   },
   "source": [
    "Suppose, we have a linear space, spanned by $n$ vectors. \n",
    "Let these vectors be random with elements from standard normal distribution $\\mathcal{N}(0, 1)$.\n",
    "\n",
    "**Q**: What is the probability of the fact that this subspace has dimension $m < n$?\n",
    "\n",
    "**A**: Random matrix has full rank with probability 1."
   ]
  },
  {
   "attachments": {},
   "cell_type": "markdown",
   "metadata": {
    "slideshow": {
     "slide_type": "slide"
    }
   },
   "source": [
    "## Dimensionality reduction\n",
    "\n",
    "- A lot of data from real-world applications are high dimensional, for instance images (e.g. $512\\times 512$ pixels), texts, graphs.\n",
    "- However, working with high-dimensional data is not an easy task.\n",
    "- Is it possible to reduce the dimensionality, preserving important relations between objects such as distance?"
   ]
  },
  {
   "attachments": {},
   "cell_type": "markdown",
   "metadata": {
    "slideshow": {
     "slide_type": "slide"
    }
   },
   "source": [
    "## Skeleton decomposition\n",
    "\n",
    "A very useful representation for computation of the matrix rank is the **skeleton decomposition** and is closely related to the rank. \n",
    "This decompositions explains, why and how matrices of low rank can be compressed.\n",
    "\n",
    "It can be graphically represented as follows:  \n",
    "<img src=\"./skeleton.png\" width='50%'>\n",
    "or in the matrix form\n",
    "\n",
    "$$ A = C \\widehat{A}^{-1} R, $$\n",
    "\n",
    "where $C$ are some $k=\\mathrm{rank}(A)$ columns of $A$, $R$ are some $k$ rows of $A$ and  $\\widehat{A}$ is the **nonsingular** submatrix on the intersection."
   ]
  },
  {
   "attachments": {},
   "cell_type": "markdown",
   "metadata": {
    "slideshow": {
     "slide_type": "slide"
    }
   },
   "source": [
    "### Remark\n",
    "\n",
    "We have not yet formally defined the inverse, so just a reminder:\n",
    "\n",
    "- An inverse of the matrix $P$ is the matrix $Q = P^{-1}$ such that $ P Q = QP = I$.  \n",
    "- If the matrix is square and has full rank then the inverse exists."
   ]
  },
  {
   "attachments": {},
   "cell_type": "markdown",
   "metadata": {
    "slideshow": {
     "slide_type": "slide"
    }
   },
   "source": [
    "### A closer look on the skeleton decomposition\n",
    "\n",
    "- Any rank-$r$ matrix can be written in the form\n",
    "\n",
    "$$A = C \\widehat{A}^{-1} R,$$\n",
    "\n",
    "where $C$ is $n \\times r$, $R$ is $r \\times m$ and $\\widehat{A}$ is $r \\times r$, or \n",
    "\n",
    "$$ A = UV, $$\n",
    "\n",
    "where $U$ and $V$ are not unique, e.g. $U = C \\widehat{A}^{-1}$, $V=R$.\n",
    "\n",
    "- The form $A = U V$ is standard for skeleton decomposition.\n",
    "\n",
    "- Thus, every rank-$r$ matrix can be written as a product of a \"skinny\" (\"tall\") matrix $U$ by a \"fat\" (\"short\") matrix $V$."
   ]
  },
  {
   "attachments": {},
   "cell_type": "markdown",
   "metadata": {
    "slideshow": {
     "slide_type": "slide"
    }
   },
   "source": [
    "In the index form, it is  \n",
    "\n",
    "$$ a_{ij} = \\sum_{\\alpha=1}^r u_{i \\alpha} v_{\\alpha j}. $$\n",
    "\n",
    "For rank 1, we have\n",
    "\n",
    "$$ a_{ij} = u_i v_j, $$\n",
    "\n",
    "i.e. it is a separation of indices and rank-$r$ is a sum of rank-$1$ matrices!"
   ]
  },
  {
   "attachments": {},
   "cell_type": "markdown",
   "metadata": {
    "slideshow": {
     "slide_type": "slide"
    }
   },
   "source": [
    "### Storage\n",
    "It is interesting to note, that for the rank-$r$ matrix \n",
    "\n",
    "$$A = U V$$\n",
    "\n",
    "only $U$ and $V$ can be stored, which gives us $(n+m) r$ parameters, so it can be used for compression. We can also compute matrix-by-vector $Ax$ product much faster:\n",
    "\n",
    "* Multiplication $y = Vx$ costs $\\mathcal{O}(mr)$ flops.\n",
    "* Multiplication $z = Uy$ costs $\\mathcal{O}(nr)$ flops.\n",
    "\n",
    "The same works for addition, elementwise multiplication, etc.\n",
    "For addition:\n",
    "\n",
    "$$    A_1 + A_2 = U_1 V_1 + U_2 V_2 = [U_1|U_2] [V_1^\\top|V_2^\\top]^\\top $$"
   ]
  },
  {
   "cell_type": "code",
   "execution_count": 3,
   "metadata": {
    "slideshow": {
     "slide_type": "slide"
    }
   },
   "outputs": [
    {
     "name": "stdout",
     "output_type": "stream",
     "text": [
      "500.0\n",
      "8.64 ms ± 97.4 µs per loop (mean ± std. dev. of 7 runs, 100 loops each)\n",
      "97.4 µs ± 1.16 µs per loop (mean ± std. dev. of 7 runs, 10,000 loops each)\n"
     ]
    }
   ],
   "source": [
    "#A fast matrix-by-vector product demo\n",
    "import jax\n",
    "import jax.numpy as jnp\n",
    "n = 10000\n",
    "r = 10\n",
    "u = jax.random.normal(jax.random.PRNGKey(0), (n, r))\n",
    "v = jax.random.normal(jax.random.PRNGKey(10), (n, r))\n",
    "a = u @ v.T\n",
    "x = jax.random.normal(jax.random.PRNGKey(1), (n,))\n",
    "print(n*n/(2*n*r))\n",
    "%timeit (a @ x).block_until_ready()\n",
    "%timeit (u @ (v.T @ x)).block_until_ready()"
   ]
  },
  {
   "attachments": {},
   "cell_type": "markdown",
   "metadata": {
    "slideshow": {
     "slide_type": "slide"
    }
   },
   "source": [
    "## Computing matrix rank\n",
    "We can also try to compute the matrix rank using the built-in ```jnp.linalg.matrix_rank``` function"
   ]
  },
  {
   "cell_type": "code",
   "execution_count": 5,
   "metadata": {
    "slideshow": {
     "slide_type": "slide"
    }
   },
   "outputs": [
    {
     "name": "stdout",
     "output_type": "stream",
     "text": [
      "Rank of the matrix: 1\n",
      "Rank of the matrix: 6\n"
     ]
    }
   ],
   "source": [
    "#Computing matrix rank\n",
    "import jax.numpy as jnp\n",
    "n = 50 \n",
    "a = jnp.ones((n, n))\n",
    "print('Rank of the matrix:', jnp.linalg.matrix_rank(a))\n",
    "b = a + 1e-8 * jax.random.normal(jax.random.PRNGKey(10), (n, n))\n",
    "print('Rank of the matrix:', jnp.linalg.matrix_rank(b, tol=1e-8))"
   ]
  },
  {
   "attachments": {},
   "cell_type": "markdown",
   "metadata": {
    "slideshow": {
     "slide_type": "slide"
    }
   },
   "source": [
    "<font color='red'> So, small perturbations might crucially affect the rank! </font>"
   ]
  },
  {
   "attachments": {},
   "cell_type": "markdown",
   "metadata": {
    "slideshow": {
     "slide_type": "slide"
    }
   },
   "source": [
    "### Instability of the matrix rank\n",
    "For any rank-$r$ matrix $A$ with $r < \\min(m, n)$ there is a matrix $B$ such that its rank is equal to $\\min(m, n)$ and\n",
    "\n",
    "$$ \\Vert A - B \\Vert = \\epsilon. $$\n",
    "\n",
    "**Q**: So, does this mean that numerically matrix rank has no meaning? (I.e., small perturbations lead to full rank!)\n",
    "\n",
    "**A**: No. We should find a matrix $B$ such that $\\|A-B\\| = \\epsilon$ and $B$ has minimal rank. So we can only compute rank with given accuracy $\\epsilon$.\n",
    "One of the approaches to compute matrix rank $r$ is SVD."
   ]
  },
  {
   "attachments": {},
   "cell_type": "markdown",
   "metadata": {
    "slideshow": {
     "slide_type": "slide"
    }
   },
   "source": [
    "## Low rank approximation\n",
    "\n",
    "The important problem in many applications is to find low-rank approximation of the given matrix with given accurcacy $\\epsilon$ or rank $r$. <br>\n",
    "Examples:\n",
    "* principal component analysis\n",
    "* recommender systems\n",
    "* least squares\n",
    "* neural network compression\n",
    "\n",
    "These problems can be solved by SVD."
   ]
  },
  {
   "attachments": {},
   "cell_type": "markdown",
   "metadata": {
    "slideshow": {
     "slide_type": "slide"
    }
   },
   "source": [
    "## Singular value decomposition\n",
    "To compute low-rank approximation, we need to compute **singular value decomposition** (SVD).\n",
    "\n",
    "**Theorem** Any matrix $A\\in \\mathbb{C}^{n\\times m}$ can be written as a product of three matrices:  \n",
    "\n",
    "$$ A = U \\Sigma V^*, $$\n",
    "\n",
    "where \n",
    "- $U$ is an $n \\times K$ unitary matrix, \n",
    "- $V$ is an $m \\times K$ unitary matrix, $K = \\min(m, n)$,\n",
    "- $\\Sigma$ is a diagonal matrix with non-negative elements $\\sigma_1 \\geq  \\ldots, \\geq \\sigma_K$ on the diagonal. \n",
    "- Moreover, if $\\text{rank}(A) = r$, then $\\sigma_{r+1} = \\dots = \\sigma_K = 0$."
   ]
  },
  {
   "attachments": {},
   "cell_type": "markdown",
   "metadata": {
    "slideshow": {
     "slide_type": "slide"
    }
   },
   "source": [
    "# Eckart-Young theorem\n",
    "\n",
    "The best low-rank approximation can be computed by SVD.\n",
    "\n",
    "**Theorem:** Let $r < \\text{rank}(A)$, $A_r = U_r \\Sigma_r V_r^*$. Then\n",
    "\n",
    "$$ \\min_{\\text{rank}(B)=r} \\|A - B\\|_2 = \\|A - A_r\\|_2 = \\sigma_{r+1}. $$\n",
    "\n",
    "The same holds for $\\|\\cdot\\|_F$, but $\\|A - A_r\\|_F = \\sqrt{\\sigma_{r+1}^2 + \\dots + \\sigma_{\\min (n,m)}^2}$."
   ]
  },
  {
   "attachments": {},
   "cell_type": "markdown",
   "metadata": {
    "slideshow": {
     "slide_type": "slide"
    }
   },
   "source": [
    "## Main result on low-rank approximation\n",
    "\n",
    "**Corollary:** computation of the best rank-$r$ approximation is equivalent to setting $\\sigma_{r+1}= 0, \\ldots, \\sigma_K = 0$. The error \n",
    "\n",
    "$$ \\min_{A_r} \\Vert A - A_r \\Vert_2 = \\sigma_{r+1}, \\quad \\min_{A_r} \\Vert A - A_r \\Vert_F = \\sqrt{\\sigma_{r+1}^2 + \\dots + \\sigma_{K}^2} $$\n",
    "\n",
    "that is why it is important to look at the decay of the singular values."
   ]
  },
  {
   "attachments": {},
   "cell_type": "markdown",
   "metadata": {
    "slideshow": {
     "slide_type": "slide"
    }
   },
   "source": [
    "## Computing SVD\n",
    "\n",
    "- Algorithms for the computation of the SVD are tricky and will be discussed later.\n",
    "\n",
    "- But for numerics, we can use NumPy or JAX or PyTorch already!\n",
    "\n",
    "Let us go back to the previous example"
   ]
  },
  {
   "cell_type": "code",
   "execution_count": 7,
   "metadata": {
    "slideshow": {
     "slide_type": "slide"
    }
   },
   "outputs": [
    {
     "name": "stdout",
     "output_type": "stream",
     "text": [
      "Rank of the matrix: 1\n",
      "Rank of the matrix: 1\n"
     ]
    }
   ],
   "source": [
    "#Computing matrix rank\n",
    "import jax.numpy as jnp\n",
    "n = 50 \n",
    "a = jnp.ones((n, n))\n",
    "print('Rank of the matrix:', jnp.linalg.matrix_rank(a))\n",
    "b = a + 1e-5 * jax.random.normal(jax.random.PRNGKey(-1), (n, n))\n",
    "print('Rank of the matrix:', jnp.linalg.matrix_rank(b, tol=1e-3))"
   ]
  },
  {
   "cell_type": "code",
   "execution_count": 10,
   "metadata": {
    "slideshow": {
     "slide_type": "slide"
    }
   },
   "outputs": [
    {
     "name": "stdout",
     "output_type": "stream",
     "text": [
      "[1.0000000e+00 2.6038917e-06 2.5778331e-06 2.4328988e-06 2.3946168e-06\n",
      " 2.3161633e-06 2.1771170e-06 2.1350679e-06 2.0692341e-06 1.9072305e-06\n",
      " 1.8897628e-06 1.7940382e-06 1.7782966e-06 1.7084487e-06 1.6727121e-06\n",
      " 1.6017437e-06 1.5731581e-06 1.4549468e-06 1.4165987e-06 1.3679330e-06\n",
      " 1.3424550e-06 1.2941907e-06 1.2687507e-06 1.2097146e-06 1.1957062e-06\n",
      " 1.1181866e-06 1.1178938e-06 1.0891903e-06 1.0027645e-06 9.4870353e-07\n",
      " 8.8112211e-07 8.7050188e-07 8.0722310e-07 7.6571308e-07 6.4515058e-07\n",
      " 6.0674591e-07 5.7988444e-07 4.8432429e-07 4.7683716e-07 4.7153273e-07\n",
      " 4.2522197e-07 3.7936982e-07 3.2457302e-07 2.7898491e-07 2.7062282e-07\n",
      " 2.3026750e-07 1.8749994e-07 1.4638464e-07 1.2981367e-07 1.7708503e-08]\n",
      "2.6038917e-06\n",
      "2.6034543e-06\n"
     ]
    }
   ],
   "source": [
    "u, s, v = jnp.linalg.svd(b) #b = u@jnp.diag(s)@v \n",
    "print(s/s[0])\n",
    "print(s[1]/s[0])\n",
    "r = 1\n",
    "u1 = u[:, :r]\n",
    "s1 = s[:r]\n",
    "v1 = v[:r, :]\n",
    "a1 = u1.dot(jnp.diag(s1).dot(v1))\n",
    "print(jnp.linalg.norm(b - a1, 2)/s[0])"
   ]
  },
  {
   "attachments": {},
   "cell_type": "markdown",
   "metadata": {
    "slideshow": {
     "slide_type": "slide"
    }
   },
   "source": [
    "## Singular values of a random Gaussian matrix\n",
    "\n",
    "What is the singular value decay of a random matrix?"
   ]
  },
  {
   "cell_type": "code",
   "execution_count": 14,
   "metadata": {
    "slideshow": {
     "slide_type": "slide"
    }
   },
   "outputs": [
    {
     "data": {
      "text/plain": [
       "(array([1.e-06, 1.e-05, 1.e-04, 1.e-03, 1.e-02, 1.e-01, 1.e+00, 1.e+01,\n",
       "        1.e+02]),\n",
       " [Text(0, 1e-06, '$\\\\mathdefault{10^{-6}}$'),\n",
       "  Text(0, 1e-05, '$\\\\mathdefault{10^{-5}}$'),\n",
       "  Text(0, 0.0001, '$\\\\mathdefault{10^{-4}}$'),\n",
       "  Text(0, 0.001, '$\\\\mathdefault{10^{-3}}$'),\n",
       "  Text(0, 0.01, '$\\\\mathdefault{10^{-2}}$'),\n",
       "  Text(0, 0.1, '$\\\\mathdefault{10^{-1}}$'),\n",
       "  Text(0, 1.0, '$\\\\mathdefault{10^{0}}$'),\n",
       "  Text(0, 10.0, '$\\\\mathdefault{10^{1}}$'),\n",
       "  Text(0, 100.0, '$\\\\mathdefault{10^{2}}$')])"
      ]
     },
     "execution_count": 14,
     "metadata": {},
     "output_type": "execute_result"
    },
    {
     "data": {
      "image/png": "[encoded data removed]",
      "text/plain": [
       "<Figure size 640x480 with 1 Axes>"
      ]
     },
     "metadata": {},
     "output_type": "display_data"
    }
   ],
   "source": [
    "import numpy as np\n",
    "import matplotlib.pyplot as plt\n",
    "n = 1000\n",
    "a = jax.random.normal(jax.random.PRNGKey(244747), (n, n))\n",
    "u, s, v = jnp.linalg.svd(a)\n",
    "plt.semilogy(s/s[0])\n",
    "plt.ylabel(r\"$\\sigma_i / \\sigma_0$\", fontsize=24)\n",
    "plt.xlabel(r\"Singular value index, $i$\", fontsize=24)\n",
    "plt.grid(True)\n",
    "plt.xticks(fontsize=26)\n",
    "plt.yticks(fontsize=26)"
   ]
  },
  {
   "attachments": {},
   "cell_type": "markdown",
   "metadata": {
    "slideshow": {
     "slide_type": "slide"
    }
   },
   "source": [
    "## Applications of SVD\n",
    "\n",
    "- SVD is extremely important in computational science and engineering.\n",
    "\n",
    "- It has many names: Principal component analysis, Proper Orthogonal Decomposition, Empirical Orthogonal Functions\n",
    "\n",
    "- Now we will consider compression of **dense** matrix and active subspaces method "
   ]
  },
  {
   "attachments": {},
   "cell_type": "markdown",
   "metadata": {
    "slideshow": {
     "slide_type": "slide"
    }
   },
   "source": [
    "## Dense matrix compression\n",
    "\n",
    "Dense matrices typically require $N^2$ elements to be stored. A rank-$r$ approximation can reduces this number to $\\mathcal{O}(Nr)$"
   ]
  },
  {
   "cell_type": "code",
   "execution_count": 26,
   "metadata": {
    "slideshow": {
     "slide_type": "slide"
    }
   },
   "outputs": [
    {
     "data": {
      "text/plain": [
       "DeviceArray(-0.3372376, dtype=float32)"
      ]
     },
     "execution_count": 26,
     "metadata": {},
     "output_type": "execute_result"
    },
    {
     "data": {
      "image/png": "[encoded data removed]",
      "text/plain": [
       "<Figure size 640x480 with 1 Axes>"
      ]
     },
     "metadata": {},
     "output_type": "display_data"
    }
   ],
   "source": [
    "import numpy as np\n",
    "%matplotlib inline\n",
    "import matplotlib.pyplot as plt\n",
    "\n",
    "n = 256\n",
    "a = [[1.0/(i - j + 0.5) for i in range(n)] for j in range(n)]\n",
    "a = np.array(a)\n",
    "#u, s, v = np.linalg.svd(a)\n",
    "u, s, v = jnp.linalg.svd(a[n//2:, :n//2])\n",
    "plt.semilogy(s/s[0])\n",
    "plt.ylabel(r\"$\\sigma_i / \\sigma_0$\", fontsize=24)\n",
    "plt.xlabel(r\"Singular value index, $i$\", fontsize=24)\n",
    "plt.grid(True)\n",
    "plt.xticks(fontsize=26)\n",
    "plt.yticks(fontsize=26)\n",
    "#s[0] - jnp.pi\n",
    "#u, s, v = jnp.linalg.svd(a[:128:, :128])\n",
    "#print(s[0]-jnp.pi)"
   ]
  },
  {
   "attachments": {},
   "cell_type": "markdown",
   "metadata": {
    "slideshow": {
     "slide_type": "slide"
    }
   },
   "source": [
    "## Compression of parameters in fully-connected neural networs\n",
    "\n",
    "- One of the main building blocks of the modern deep neural networks is **fully-connected layer** a.k.a. **linear layer**\n",
    "- This layer implements the action of a linear function to an input vector: $f(x) = Wx + b$, where $W$ is a trainable matrix and $b$ is a trainable bias vector\n",
    "- Both $W$ and $b$ are updated during training of the network according to some optimization method, i.e. SGD, Adam, etc...\n",
    "- However, the storing of the trained optimal parameters ($W$ and $b$) can be **prohibitive** if you want to port your trained network to the device, where memory is limited\n",
    "- As a possible recipe, you can **compress** matrices $W_i$ from the $i$-th linear layer with the truncated SVD based on the singular values!\n",
    "- What do you get after such apprioximation of $W$?\n",
    "    - memory efficient storage\n",
    "    - faster inference\n",
    "    - moderate degradation of the accuracy in solving the target task, i.e. image classification\n",
    "    "
   ]
  }
 ],
 "metadata": {
  "anaconda-cloud": {},
  "celltoolbar": "Slideshow",
  "kernelspec": {
   "display_name": "Python 3.9 (tensorflow)",
   "language": "python",
   "name": "tensorflow"
  },
  "language_info": {
   "codemirror_mode": {
    "name": "ipython",
    "version": 3
   },
   "file_extension": ".py",
   "mimetype": "text/x-python",
   "name": "python",
   "nbconvert_exporter": "python",
   "pygments_lexer": "ipython3",
   "version": "3.9.13"
  },
  "latex_envs": {
   "LaTeX_envs_menu_present": true,
   "bibliofile": "biblio.bib",
   "cite_by": "apalike",
   "current_citInitial": 1,
   "eqLabelWithNumbers": true,
   "eqNumInitial": 1,
   "labels_anchors": false,
   "latex_user_defs": false,
   "report_style_numbering": false,
   "user_envs_cfg": false
  },
  "nav_menu": {},
  "rise": {
   "scroll": true,
   "theme": "sky",
   "transition": "zoom"
  },
  "toc": {
   "navigate_menu": true,
   "number_sections": false,
   "sideBar": true,
   "threshold": 6,
   "toc_cell": false,
   "toc_section_display": "block",
   "toc_window_display": false
  }
 },
 "nbformat": 4,
 "nbformat_minor": 1
}
