{
  "cells": [
    {
      "cell_type": "code",
      "execution_count": null,
      "metadata": {
        "colab": {
          "base_uri": "https://localhost:8080/"
        },
        "id": "0S04Hy5fg2dm",
        "outputId": "20003a5b-287c-4134-ee74-238fec387287"
      },
      "outputs": [
        {
          "name": "stdout",
          "output_type": "stream",
          "text": [
            "\u001b[?25l\r\u001b[K     |█▋                              | 10 kB 33.8 MB/s eta 0:00:01\r\u001b[K     |███▎                            | 20 kB 41.0 MB/s eta 0:00:01\r\u001b[K     |█████                           | 30 kB 44.3 MB/s eta 0:00:01\r\u001b[K     |██████▋                         | 40 kB 28.9 MB/s eta 0:00:01\r\u001b[K     |████████▎                       | 51 kB 28.8 MB/s eta 0:00:01\r\u001b[K     |██████████                      | 61 kB 32.3 MB/s eta 0:00:01\r\u001b[K     |███████████▋                    | 71 kB 25.2 MB/s eta 0:00:01\r\u001b[K     |█████████████▎                  | 81 kB 26.1 MB/s eta 0:00:01\r\u001b[K     |███████████████                 | 92 kB 28.0 MB/s eta 0:00:01\r\u001b[K     |████████████████▌               | 102 kB 29.7 MB/s eta 0:00:01\r\u001b[K     |██████████████████▏             | 112 kB 29.7 MB/s eta 0:00:01\r\u001b[K     |███████████████████▉            | 122 kB 29.7 MB/s eta 0:00:01\r\u001b[K     |█████████████████████▌          | 133 kB 29.7 MB/s eta 0:00:01\r\u001b[K     |███████████████████████▏        | 143 kB 29.7 MB/s eta 0:00:01\r\u001b[K     |████████████████████████▉       | 153 kB 29.7 MB/s eta 0:00:01\r\u001b[K     |██████████████████████████▌     | 163 kB 29.7 MB/s eta 0:00:01\r\u001b[K     |████████████████████████████▏   | 174 kB 29.7 MB/s eta 0:00:01\r\u001b[K     |█████████████████████████████▉  | 184 kB 29.7 MB/s eta 0:00:01\r\u001b[K     |███████████████████████████████▍| 194 kB 29.7 MB/s eta 0:00:01\r\u001b[K     |████████████████████████████████| 198 kB 29.7 MB/s \n",
            "\u001b[K     |████████████████████████████████| 47 kB 5.9 MB/s \n",
            "\u001b[K     |████████████████████████████████| 1.3 MB 66.9 MB/s \n",
            "\u001b[K     |████████████████████████████████| 154 kB 77.0 MB/s \n",
            "\u001b[?25h"
          ]
        }
      ],
      "source": [
        "!pip install -U tensorly teneva mlxtend --quiet"
      ]
    },
    {
      "attachments": {},
      "cell_type": "markdown",
      "metadata": {
        "id": "BZnJCkschNQY"
      },
      "source": [
        "# 🧱 Compressing FC layer with Skeleton decomposition\n",
        "\n",
        "![](https://fmin.xyz/docs/applications/CP.SVG)\n",
        "\n",
        "We will consider the following $d$-dimensional array of data. For simplicity we will consider the case $d=3$.\n",
        "\n",
        "Take a look at the following tensor:\n",
        "\n",
        "$$\n",
        "t_{i_1, i_2, \\ldots, i_d} = i_1 + i_2 + \\ldots +i _d\n",
        "$$\n",
        "\n"
      ]
    },
    {
      "attachments": {},
      "cell_type": "markdown",
      "metadata": {
        "id": "-bl2ayvfP0ZM"
      },
      "source": [
        "## 💃 Let's train usual LeNet on FashionMNIST"
      ]
    },
    {
      "cell_type": "code",
      "execution_count": null,
      "metadata": {
        "id": "fDqICEvEjOkx"
      },
      "outputs": [],
      "source": [
        "# import dependencies\n",
        "import numpy as np # for scientific computation\n",
        "import pandas as pd\n",
        "import torch\n",
        "import torchvision\n",
        "from torch import nn # building blocks of a CNN\n",
        "import matplotlib.pyplot as plt # ploting library\n",
        "from torchvision.transforms import Resize, ToTensor , Normalize, Compose\n",
        "import torch.optim as optim # optimizer algorithms package\n",
        "\n",
        "from mlxtend.plotting import plot_confusion_matrix\n",
        "import torch.nn.functional as F\n",
        "import os\n",
        "import time\n",
        "\n",
        "torch.manual_seed(seed=59) # set seed for reproducibility\n",
        "from sklearn.metrics import confusion_matrix"
      ]
    },
    {
      "cell_type": "code",
      "execution_count": null,
      "metadata": {
        "id": "F_CeYN7EjPVr"
      },
      "outputs": [],
      "source": [
        "# def helper functions\n",
        "@torch.no_grad()\n",
        "def get_all_preds(data_loader, model):\n",
        "    \"\"\"function to return all predicted probabilities\"\"\"\n",
        "    all_preds = torch.tensor([]) # init empty tensor\n",
        "    for batch in data_loader:\n",
        "        imgs, lbls = batch\n",
        "        preds = model(imgs)\n",
        "        all_preds = torch.cat((all_preds, preds), dim=0)\n",
        "    return all_preds \n",
        "\n",
        "def get_correct(preds, lbls):\n",
        "    \"\"\"function tells us how many predictions are correct\"\"\"\n",
        "    return preds.argmax(1).eq(lbls).sum().item()"
      ]
    },
    {
      "cell_type": "code",
      "execution_count": null,
      "metadata": {
        "id": "lDT4DwFZjWo3"
      },
      "outputs": [],
      "source": [
        "# prepare data & specify some transforms\n",
        "\n",
        "batch_size = 256\n",
        "\n",
        "transf = {\n",
        "    \"train\":Compose([ToTensor(), \n",
        "                     Normalize(mean=0.3814, std=0.3994)]),\n",
        "     \"val\": Compose([ToTensor(), Normalize(mean=0.3814, std=0.3994)])\n",
        "             }\n",
        "\n",
        "root_dir = \"../../OOP\"\n",
        "train_data = torchvision.datasets.FashionMNIST(root=root_dir, train=True,\n",
        "                                               transform=transf['train'], \n",
        "                                               download=True )\n",
        "\n",
        "val_data = torchvision.datasets.FashionMNIST(root=root_dir, train=False,\n",
        "                                               transform=transf['val'], \n",
        "                                               download=True )\n",
        "\n",
        "\n",
        "\n",
        "# train dataloaders\n",
        "train_loader = torch.utils.data.DataLoader(dataset=train_data, batch_size=batch_size, shuffle=True, num_workers=1)\n",
        "val_loader = torch.utils.data.DataLoader(dataset=val_data, batch_size=batch_size, shuffle=True, num_workers=1)\n",
        "\n",
        "# test dataloaders\n",
        "train_test_loader = torch.utils.data.DataLoader(dataset=train_data, batch_size=batch_size, shuffle=False, num_workers=1)\n",
        "val_test_loader = torch.utils.data.DataLoader(dataset=val_data, batch_size=batch_size, shuffle=False, num_workers=1)"
      ]
    },
    {
      "cell_type": "code",
      "execution_count": null,
      "metadata": {
        "colab": {
          "base_uri": "https://localhost:8080/"
        },
        "id": "ZxZsVa6XjZP2",
        "outputId": "ada1f0c9-2a09-4842-b15c-671b45287468"
      },
      "outputs": [
        {
          "name": "stdout",
          "output_type": "stream",
          "text": [
            "Sequential(\n",
            "  (conv1): Conv2d(1, 6, kernel_size=(5, 5), stride=(1, 1), padding=(2, 2))\n",
            "  (tanh1): Tanh()\n",
            "  (avg_pool1): AvgPool2d(kernel_size=2, stride=2, padding=0)\n",
            "  (conv2): Conv2d(6, 16, kernel_size=(5, 5), stride=(1, 1))\n",
            "  (avg_pool2): AvgPool2d(kernel_size=2, stride=2, padding=0)\n",
            "  (conv3): Conv2d(16, 128, kernel_size=(5, 5), stride=(1, 1))\n",
            "  (tanh2): Tanh()\n",
            "  (flatten): Flatten(start_dim=1, end_dim=-1)\n",
            "  (fc1): Linear(in_features=128, out_features=64, bias=True)\n",
            "  (tanh3): Tanh()\n",
            "  (fc2): Linear(in_features=64, out_features=10, bias=True)\n",
            ")\n"
          ]
        }
      ],
      "source": [
        "# define LeNet-5\n",
        "lenet = nn.Sequential()\n",
        "lenet.add_module(\"conv1\", nn.Conv2d(in_channels=1, out_channels=6, kernel_size=5, stride=1, padding=2))\n",
        "lenet.add_module(\"tanh1\", nn.Tanh())\n",
        "lenet.add_module(\"avg_pool1\", nn.AvgPool2d(kernel_size=2, stride=2))\n",
        "lenet.add_module(\"conv2\", nn.Conv2d(in_channels=6, out_channels=16, kernel_size=5, stride=1))\n",
        "lenet.add_module(\"avg_pool2\", nn.AvgPool2d(kernel_size=2, stride=2))\n",
        "lenet.add_module(\"conv3\", nn.Conv2d(in_channels=16, out_channels=128, kernel_size=5,stride=1))\n",
        "lenet.add_module(\"tanh2\", nn.Tanh())\n",
        "lenet.add_module(\"flatten\", nn.Flatten(start_dim=1))\n",
        "lenet.add_module(\"fc1\", nn.Linear(in_features=128 , out_features=64))\n",
        "lenet.add_module(\"tanh3\", nn.Tanh())\n",
        "lenet.add_module(\"fc2\", nn.Linear(in_features=64, out_features=10))\n",
        "print(lenet)"
      ]
    },
    {
      "cell_type": "code",
      "execution_count": null,
      "metadata": {
        "colab": {
          "base_uri": "https://localhost:8080/",
          "height": 166
        },
        "id": "yB5yyoR0jfVB",
        "outputId": "62b9216c-9a34-461a-bdfc-65e077522c77"
      },
      "outputs": [
        {
          "data": {
            "image/png": "[encoded data removed]",
            "text/plain": [
              "<Figure size 720x720 with 1 Axes>"
            ]
          },
          "metadata": {
            "needs_background": "light"
          },
          "output_type": "display_data"
        }
      ],
      "source": [
        "# visualizing some samples\n",
        "samples = next(iter(train_loader))\n",
        "imgs = samples[0]\n",
        "lbls = samples[1]\n",
        "plt.figure(figsize=(10,10))\n",
        "grid = torchvision.utils.make_grid(tensor=imgs[:20], nrow=10)\n",
        "grid = np.clip(grid,0,1)\n",
        "plt.imshow(X=np.transpose(grid, axes=(1,2,0)), cmap=\"gray\");"
      ]
    },
    {
      "cell_type": "code",
      "execution_count": null,
      "metadata": {
        "colab": {
          "base_uri": "https://localhost:8080/"
        },
        "id": "_gwY1iz7jf9D",
        "outputId": "9351c57c-a3a6-481a-d372-d0b4eba5b885"
      },
      "outputs": [
        {
          "name": "stdout",
          "output_type": "stream",
          "text": [
            "😺 epoch 1 📈 Train accuracy 0.771 ⏰ epoch_duration 16.97, sec 📉 Train loss:, 150.36\n",
            "😺 epoch 2 📈 Train accuracy 0.851 ⏰ epoch_duration 16.97, sec 📉 Train loss:, 95.49\n",
            "😺 epoch 3 📈 Train accuracy 0.870 ⏰ epoch_duration 16.67, sec 📉 Train loss:, 83.20\n",
            "😺 epoch 4 📈 Train accuracy 0.880 ⏰ epoch_duration 16.85, sec 📉 Train loss:, 76.63\n",
            "😺 epoch 5 📈 Train accuracy 0.889 ⏰ epoch_duration 17.11, sec 📉 Train loss:, 71.19\n"
          ]
        }
      ],
      "source": [
        "# train LeNet-5\n",
        "optimizer = optim.NAdam(params=lenet.parameters())\n",
        "\n",
        "for epoch in range(5):\n",
        "    start_time = time.time()\n",
        "    total_loss = 0\n",
        "    total_correct = 0\n",
        "    for batch in train_loader:\n",
        "        imgs, lbls = batch\n",
        "    \n",
        "        preds = lenet(imgs) # get preds\n",
        "        loss = F.cross_entropy(preds, lbls) # cal loss\n",
        "        optimizer.zero_grad() # zero gradients\n",
        "        loss.backward() # calculates gradients \n",
        "        optimizer.step() # update the weights\n",
        "        \n",
        "        total_loss += loss.item()\n",
        "        total_correct += get_correct(preds, lbls)\n",
        "        accuracy = total_correct/len(train_data)\n",
        "    end_time = time.time() - start_time    \n",
        "    print(f\"😺 epoch {epoch+1} 📈 Train accuracy {accuracy:.3f} \"\n",
        "    f\"⏰ epoch_duration {end_time:.2f}, sec \"\n",
        "    f\"📉 Train loss:, {total_loss:.2f}\")"
      ]
    },
    {
      "cell_type": "code",
      "execution_count": null,
      "metadata": {
        "id": "Aehr8H5Kjk7l"
      },
      "outputs": [],
      "source": [
        "# preds\n",
        "probs = get_all_preds(data_loader=train_test_loader, model=lenet) # validation on train data\n",
        "tags = train_data.targets\n",
        "cm = confusion_matrix(y_true=tags, y_pred=probs.argmax(1))\n",
        "# plot_confusion_matrix(cm, class_names=train_data.classes, show_normed=True, figsize=(10,10))\n",
        "# plt.show()"
      ]
    },
    {
      "cell_type": "code",
      "execution_count": null,
      "metadata": {
        "colab": {
          "base_uri": "https://localhost:8080/"
        },
        "id": "CDcnebudjmhs",
        "outputId": "b466dd02-90cc-4adb-d84f-e7956c2d029a"
      },
      "outputs": [
        {
          "name": "stdout",
          "output_type": "stream",
          "text": [
            "💃 LeNet test error is 0.111 with 62806 trainable parameters.\n"
          ]
        }
      ],
      "source": [
        "val_tags = val_data.targets\n",
        "probs_val = get_all_preds(data_loader=val_test_loader, model=lenet) # validation on held out test set\n",
        "cm = confusion_matrix(y_true=val_tags, y_pred=probs_val.argmax(1))\n",
        "# plot_confusion_matrix(cm, class_names=train_data.classes, show_normed=True, figsize=(10,10))\n",
        "\n",
        "total_correct = get_correct(probs_val, val_tags)\n",
        "lenet_accuracy = total_correct/len(val_data)\n",
        "lenet_err = 1 - accuracy\n",
        "lenet_num_par = sum(p.numel() for p in lenet.parameters())\n",
        "\n",
        "print(f\"💃 LeNet test error is {lenet_err:.3f} with {lenet_num_par} trainable parameters.\")"
      ]
    },
    {
      "attachments": {},
      "cell_type": "markdown",
      "metadata": {
        "id": "jHZReHeMVDPb"
      },
      "source": [
        "## 💀 Let's compress FC LAYER with Skeleton decomposition"
      ]
    },
    {
      "cell_type": "code",
      "execution_count": null,
      "metadata": {
        "id": "C835FoQ1v1sY"
      },
      "outputs": [],
      "source": [
        "# CUSTOM_LAYER\n",
        "\n",
        "class SkeletonLayer(nn.Module):\n",
        "    \"\"\" Custom Linear layer but mimics a standard linear layer \"\"\"\n",
        "    def __init__(self, in_features, out_features, rank):\n",
        "        super().__init__()\n",
        "        self.in_features, self.out_features, self.rank = in_features, out_features, rank\n",
        "        v_weights = torch.Tensor(rank, in_features)\n",
        "        u_weights = torch.Tensor(out_features, rank)\n",
        "        self.u_weights = nn.Parameter(u_weights)  # nn.Parameter is a Tensor that's a module parameter.\n",
        "        self.v_weights = nn.Parameter(v_weights)  # nn.Parameter is a Tensor that's a module parameter.\n",
        "        bias = torch.Tensor(out_features)\n",
        "        self.bias = nn.Parameter(bias)\n",
        "\n",
        "        # initialize weights and biases\n",
        "        bound = 1/(self.in_features*self.rank)\n",
        "        nn.init.uniform_(self.u_weights, -bound, bound) # weight init\n",
        "        bound = 1/(self.out_features*self.rank)\n",
        "        nn.init.uniform_(self.v_weights, -bound, bound) # weight init\n",
        "        bound = 1/(self.out_features)\n",
        "        nn.init.uniform_(self.bias, -bound, bound)  # bias init\n",
        "\n",
        "    def forward(self, x):\n",
        "        v_times_x = x @ self.v_weights.T\n",
        "        w_times_x = v_times_x @ self.u_weights.T\n",
        "        return w_times_x + self.bias  # w times x + b"
      ]
    },
    {
      "cell_type": "code",
      "execution_count": null,
      "metadata": {
        "colab": {
          "base_uri": "https://localhost:8080/"
        },
        "id": "H3lUw6MiWkm2",
        "outputId": "4f0ca47e-5a23-43c6-d597-bb6a91ccdcca"
      },
      "outputs": [
        {
          "name": "stdout",
          "output_type": "stream",
          "text": [
            "Sequential(\n",
            "  (conv1): Conv2d(1, 6, kernel_size=(5, 5), stride=(1, 1), padding=(2, 2))\n",
            "  (tanh1): Tanh()\n",
            "  (avg_pool1): AvgPool2d(kernel_size=2, stride=2, padding=0)\n",
            "  (conv2): Conv2d(6, 16, kernel_size=(5, 5), stride=(1, 1))\n",
            "  (avg_pool2): AvgPool2d(kernel_size=2, stride=2, padding=0)\n",
            "  (conv3): Conv2d(16, 128, kernel_size=(5, 5), stride=(1, 1))\n",
            "  (tanh2): Tanh()\n",
            "  (flatten): Flatten(start_dim=1, end_dim=-1)\n",
            "  (skeleton1): SkeletonLayer()\n",
            "  (tanh3): Tanh()\n",
            "  (fc2): Linear(in_features=64, out_features=10, bias=True)\n",
            ")\n"
          ]
        }
      ],
      "source": [
        "# define LeNet-skeleton\n",
        "r = 32\n",
        "lenet_skeleton = nn.Sequential()\n",
        "lenet_skeleton.add_module(\"conv1\", nn.Conv2d(in_channels=1, out_channels=6, kernel_size=5, stride=1, padding=2))\n",
        "lenet_skeleton.add_module(\"tanh1\", nn.Tanh())\n",
        "lenet_skeleton.add_module(\"avg_pool1\", nn.AvgPool2d(kernel_size=2, stride=2))\n",
        "lenet_skeleton.add_module(\"conv2\", nn.Conv2d(in_channels=6, out_channels=16, kernel_size=5, stride=1))\n",
        "lenet_skeleton.add_module(\"avg_pool2\", nn.AvgPool2d(kernel_size=2, stride=2))\n",
        "lenet_skeleton.add_module(\"conv3\", nn.Conv2d(in_channels=16, out_channels=128, kernel_size=5,stride=1))\n",
        "lenet_skeleton.add_module(\"tanh2\", nn.Tanh())\n",
        "lenet_skeleton.add_module(\"flatten\", nn.Flatten(start_dim=1))\n",
        "lenet_skeleton.add_module(\"skeleton1\", SkeletonLayer(in_features=128 , out_features=64, rank=r))\n",
        "lenet_skeleton.add_module(\"tanh3\", nn.Tanh())\n",
        "lenet_skeleton.add_module(\"fc2\", nn.Linear(in_features=64, out_features=10))\n",
        "print(lenet_skeleton)"
      ]
    },
    {
      "cell_type": "code",
      "execution_count": null,
      "metadata": {
        "colab": {
          "base_uri": "https://localhost:8080/"
        },
        "id": "gfq-b2_dWkm3",
        "outputId": "b45325ec-c91e-4041-e80a-7d933f7399fd"
      },
      "outputs": [
        {
          "name": "stdout",
          "output_type": "stream",
          "text": [
            "Skel Rank 32. 😺 epoch 1 📈 Train accuracy 0.672 ⏰ epoch_duration 17.45, sec 📉 Train loss:, 206.30\n",
            "Skel Rank 32. 😺 epoch 2 📈 Train accuracy 0.827 ⏰ epoch_duration 24.34, sec 📉 Train loss:, 113.98\n",
            "Skel Rank 32. 😺 epoch 3 📈 Train accuracy 0.858 ⏰ epoch_duration 19.85, sec 📉 Train loss:, 93.46\n",
            "Skel Rank 32. 😺 epoch 4 📈 Train accuracy 0.872 ⏰ epoch_duration 16.86, sec 📉 Train loss:, 84.03\n",
            "Skel Rank 32. 😺 epoch 5 📈 Train accuracy 0.881 ⏰ epoch_duration 17.42, sec 📉 Train loss:, 78.14\n"
          ]
        }
      ],
      "source": [
        "optimizer = optim.NAdam(params=lenet_skeleton.parameters())\n",
        "\n",
        "for epoch in range(5):\n",
        "    start_time = time.time()\n",
        "    total_loss = 0\n",
        "    total_correct = 0\n",
        "    for batch in train_loader:\n",
        "        imgs, lbls = batch\n",
        "    \n",
        "        preds = lenet_skeleton(imgs) # get preds\n",
        "        loss = F.cross_entropy(preds, lbls) # cal loss\n",
        "        optimizer.zero_grad() # zero gradients\n",
        "        loss.backward() # calculates gradients \n",
        "        optimizer.step() # update the weights\n",
        "        lenet_skeleton\n",
        "        total_loss += loss.item()\n",
        "        total_correct += get_correct(preds, lbls)\n",
        "        accuracy = total_correct/len(train_data)\n",
        "    end_time = time.time() - start_time    \n",
        "    print(f\"Skel Rank {r}. 😺 epoch {epoch+1} 📈 Train accuracy {accuracy:.3f}\"\n",
        "    f\" ⏰ epoch_duration {end_time:.2f}, sec\"\n",
        "    f\" 📉 Train loss:, {total_loss:.2f}\")"
      ]
    },
    {
      "cell_type": "code",
      "execution_count": null,
      "metadata": {
        "colab": {
          "base_uri": "https://localhost:8080/",
          "height": 783
        },
        "id": "Pg7X2RwMWkm4",
        "outputId": "3c0a3ddc-e4f2-4d0a-eb63-d06101e1899e"
      },
      "outputs": [
        {
          "data": {
            "text/plain": [
              "(<Figure size 864x864 with 1 Axes>,\n",
              " <matplotlib.axes._subplots.AxesSubplot at 0x7fec7bff5490>)"
            ]
          },
          "execution_count": 55,
          "metadata": {},
          "output_type": "execute_result"
        },
        {
          "data": {
            "image/png": "[encoded data removed]",
            "text/plain": [
              "<Figure size 864x864 with 1 Axes>"
            ]
          },
          "metadata": {
            "needs_background": "light"
          },
          "output_type": "display_data"
        }
      ],
      "source": [
        "# preds\n",
        "probs = get_all_preds(data_loader=train_test_loader, model=lenet_skeleton) # validation on train data\n",
        "tags = train_data.targets\n",
        "cm = confusion_matrix(y_true=tags, y_pred=probs.argmax(1))\n",
        "plot_confusion_matrix(cm, class_names=train_data.classes, show_normed=True, figsize=(12,12))"
      ]
    },
    {
      "cell_type": "code",
      "execution_count": null,
      "metadata": {
        "colab": {
          "base_uri": "https://localhost:8080/",
          "height": 766
        },
        "id": "uWD2Ji3iWkm4",
        "outputId": "e3103931-57b8-42f4-e1e6-db27fafb3176"
      },
      "outputs": [
        {
          "name": "stdout",
          "output_type": "stream",
          "text": [
            "💃 LeNet with Skeleton-compressed rank 32 FC Layer test error is 0.119 with 60758 trainable parameters.\n"
          ]
        },
        {
          "data": {
            "image/png": "[encoded data removed]",
            "text/plain": [
              "<Figure size 864x864 with 1 Axes>"
            ]
          },
          "metadata": {
            "needs_background": "light"
          },
          "output_type": "display_data"
        }
      ],
      "source": [
        "val_tags = val_data.targets\n",
        "probs_val = get_all_preds(data_loader=val_test_loader, model=lenet_skeleton) # validation on held out test set\n",
        "cm = confusion_matrix(y_true=val_tags, y_pred=probs_val.argmax(1))\n",
        "\n",
        "total_correct = get_correct(probs_val, val_tags)\n",
        "lenet_accuracy = total_correct/len(val_data)\n",
        "lenet_skel_err = 1 - accuracy\n",
        "lenet_skel_num_par = sum(p.numel() for p in lenet_skeleton.parameters())\n",
        "\n",
        "print(f\"💃 LeNet with Skeleton-compressed rank {r} FC Layer test error is \"\n",
        "f\"{lenet_skel_err:.3f} with {lenet_skel_num_par} trainable parameters.\")\n",
        "\n",
        "plot_confusion_matrix(cm, class_names=train_data.classes, show_normed=True, figsize=(12,12))\n",
        "plt.show()"
      ]
    },
    {
      "attachments": {},
      "cell_type": "markdown",
      "metadata": {
        "id": "rn6_K2t544h3"
      },
      "source": [
        "### 🦄 Let's try different ranks"
      ]
    },
    {
      "cell_type": "code",
      "execution_count": null,
      "metadata": {
        "id": "cgpEEaIT4-GW"
      },
      "outputs": [],
      "source": [
        "def run_skeleton_training(rank):\n",
        "    # define LeNet-skeleton\n",
        "    model = nn.Sequential()\n",
        "    model.add_module(\"conv1\", nn.Conv2d(in_channels=1, out_channels=6, kernel_size=5, stride=1, padding=2))\n",
        "    model.add_module(\"tanh1\", nn.Tanh())\n",
        "    model.add_module(\"avg_pool1\", nn.AvgPool2d(kernel_size=2, stride=2))\n",
        "    model.add_module(\"conv2\", nn.Conv2d(in_channels=6, out_channels=16, kernel_size=5, stride=1))\n",
        "    model.add_module(\"avg_pool2\", nn.AvgPool2d(kernel_size=2, stride=2))\n",
        "    model.add_module(\"conv3\", nn.Conv2d(in_channels=16, out_channels=128, kernel_size=5,stride=1))\n",
        "    model.add_module(\"tanh2\", nn.Tanh())\n",
        "    model.add_module(\"flatten\", nn.Flatten(start_dim=1))\n",
        "    model.add_module(\"skeleton1\", SkeletonLayer(in_features=128 , out_features=64, rank=rank))\n",
        "    model.add_module(\"tanh3\", nn.Tanh())\n",
        "    model.add_module(\"fc2\", nn.Linear(in_features=64, out_features=10))\n",
        "\n",
        "    # train LeNet-5\n",
        "    optimizer = optim.NAdam(params=model.parameters())\n",
        "\n",
        "    for epoch in range(5):\n",
        "        start_time = time.time()\n",
        "        total_loss = 0\n",
        "        total_correct = 0\n",
        "        for batch in train_loader:\n",
        "            imgs, lbls = batch\n",
        "        \n",
        "            preds = model(imgs) # get preds\n",
        "            loss = F.cross_entropy(preds, lbls) # cal loss\n",
        "            optimizer.zero_grad() # zero gradients\n",
        "            loss.backward() # calculates gradients \n",
        "            optimizer.step() # update the weights\n",
        "            \n",
        "            total_loss += loss.item()\n",
        "            total_correct += get_correct(preds, lbls)\n",
        "            accuracy = total_correct/len(train_data)\n",
        "        end_time = time.time() - start_time    \n",
        "        print(f\"Skel Rank {rank}. 😺 epoch {epoch+1} 📈 Train accuracy {accuracy:.3f}\"\n",
        "        f\" ⏰ epoch_duration {end_time:.2f}, sec\"\n",
        "        f\" 📉 Train loss:, {total_loss:.2f}\")\n",
        " \n",
        "    val_tags = val_data.targets\n",
        "    probs_val = get_all_preds(data_loader=val_test_loader, model=model) # validation on held out test set\n",
        "\n",
        "    total_correct = get_correct(probs_val, val_tags)\n",
        "    accuracy = total_correct/len(val_data)\n",
        "    par_num = sum(p.numel() for p in model.parameters())\n",
        "    return accuracy, par_num"
      ]
    },
    {
      "cell_type": "code",
      "execution_count": null,
      "metadata": {
        "colab": {
          "base_uri": "https://localhost:8080/"
        },
        "id": "rjyxvgMS7zje",
        "outputId": "3ad8b9a7-7c8d-4339-c622-1ac83ff550c8"
      },
      "outputs": [
        {
          "name": "stdout",
          "output_type": "stream",
          "text": [
            "Skel Rank 1. 😺 epoch 1 📈 Train accuracy 0.417 ⏰ epoch_duration 17.04, sec 📉 Train loss:, 323.10\n",
            "Skel Rank 1. 😺 epoch 2 📈 Train accuracy 0.674 ⏰ epoch_duration 16.48, sec 📉 Train loss:, 204.49\n",
            "Skel Rank 1. 😺 epoch 3 📈 Train accuracy 0.737 ⏰ epoch_duration 16.35, sec 📉 Train loss:, 172.65\n",
            "Skel Rank 1. 😺 epoch 4 📈 Train accuracy 0.758 ⏰ epoch_duration 16.84, sec 📉 Train loss:, 158.33\n",
            "Skel Rank 1. 😺 epoch 5 📈 Train accuracy 0.784 ⏰ epoch_duration 16.79, sec 📉 Train loss:, 149.49\n",
            "Skel Rank 8. 😺 epoch 1 📈 Train accuracy 0.613 ⏰ epoch_duration 16.53, sec 📉 Train loss:, 230.90\n",
            "Skel Rank 8. 😺 epoch 2 📈 Train accuracy 0.787 ⏰ epoch_duration 16.35, sec 📉 Train loss:, 133.19\n",
            "Skel Rank 8. 😺 epoch 3 📈 Train accuracy 0.831 ⏰ epoch_duration 16.52, sec 📉 Train loss:, 108.41\n",
            "Skel Rank 8. 😺 epoch 4 📈 Train accuracy 0.857 ⏰ epoch_duration 17.20, sec 📉 Train loss:, 94.46\n",
            "Skel Rank 8. 😺 epoch 5 📈 Train accuracy 0.868 ⏰ epoch_duration 16.24, sec 📉 Train loss:, 86.40\n",
            "Skel Rank 15. 😺 epoch 1 📈 Train accuracy 0.582 ⏰ epoch_duration 16.29, sec 📉 Train loss:, 240.60\n",
            "Skel Rank 15. 😺 epoch 2 📈 Train accuracy 0.805 ⏰ epoch_duration 16.13, sec 📉 Train loss:, 125.57\n",
            "Skel Rank 15. 😺 epoch 3 📈 Train accuracy 0.846 ⏰ epoch_duration 16.28, sec 📉 Train loss:, 101.52\n",
            "Skel Rank 15. 😺 epoch 4 📈 Train accuracy 0.864 ⏰ epoch_duration 16.12, sec 📉 Train loss:, 89.69\n",
            "Skel Rank 15. 😺 epoch 5 📈 Train accuracy 0.874 ⏰ epoch_duration 16.14, sec 📉 Train loss:, 82.29\n",
            "Skel Rank 22. 😺 epoch 1 📈 Train accuracy 0.649 ⏰ epoch_duration 16.25, sec 📉 Train loss:, 213.24\n",
            "Skel Rank 22. 😺 epoch 2 📈 Train accuracy 0.820 ⏰ epoch_duration 16.30, sec 📉 Train loss:, 116.17\n",
            "Skel Rank 22. 😺 epoch 3 📈 Train accuracy 0.854 ⏰ epoch_duration 16.40, sec 📉 Train loss:, 94.79\n",
            "Skel Rank 22. 😺 epoch 4 📈 Train accuracy 0.868 ⏰ epoch_duration 16.21, sec 📉 Train loss:, 85.36\n",
            "Skel Rank 22. 😺 epoch 5 📈 Train accuracy 0.879 ⏰ epoch_duration 16.11, sec 📉 Train loss:, 78.96\n",
            "Skel Rank 29. 😺 epoch 1 📈 Train accuracy 0.685 ⏰ epoch_duration 16.33, sec 📉 Train loss:, 196.56\n",
            "Skel Rank 29. 😺 epoch 2 📈 Train accuracy 0.830 ⏰ epoch_duration 16.41, sec 📉 Train loss:, 111.93\n",
            "Skel Rank 29. 😺 epoch 3 📈 Train accuracy 0.855 ⏰ epoch_duration 16.13, sec 📉 Train loss:, 95.41\n",
            "Skel Rank 29. 😺 epoch 4 📈 Train accuracy 0.867 ⏰ epoch_duration 17.25, sec 📉 Train loss:, 86.09\n",
            "Skel Rank 29. 😺 epoch 5 📈 Train accuracy 0.877 ⏰ epoch_duration 16.13, sec 📉 Train loss:, 80.08\n",
            "Skel Rank 36. 😺 epoch 1 📈 Train accuracy 0.685 ⏰ epoch_duration 16.16, sec 📉 Train loss:, 196.13\n",
            "Skel Rank 36. 😺 epoch 2 📈 Train accuracy 0.826 ⏰ epoch_duration 16.40, sec 📉 Train loss:, 113.00\n",
            "Skel Rank 36. 😺 epoch 3 📈 Train accuracy 0.854 ⏰ epoch_duration 16.53, sec 📉 Train loss:, 95.43\n",
            "Skel Rank 36. 😺 epoch 4 📈 Train accuracy 0.869 ⏰ epoch_duration 16.22, sec 📉 Train loss:, 86.12\n",
            "Skel Rank 36. 😺 epoch 5 📈 Train accuracy 0.877 ⏰ epoch_duration 16.43, sec 📉 Train loss:, 79.68\n",
            "Skel Rank 43. 😺 epoch 1 📈 Train accuracy 0.683 ⏰ epoch_duration 16.53, sec 📉 Train loss:, 194.49\n",
            "Skel Rank 43. 😺 epoch 2 📈 Train accuracy 0.823 ⏰ epoch_duration 16.43, sec 📉 Train loss:, 113.27\n",
            "Skel Rank 43. 😺 epoch 3 📈 Train accuracy 0.852 ⏰ epoch_duration 16.31, sec 📉 Train loss:, 95.78\n",
            "Skel Rank 43. 😺 epoch 4 📈 Train accuracy 0.868 ⏰ epoch_duration 16.30, sec 📉 Train loss:, 86.04\n",
            "Skel Rank 43. 😺 epoch 5 📈 Train accuracy 0.877 ⏰ epoch_duration 16.40, sec 📉 Train loss:, 80.08\n",
            "Skel Rank 50. 😺 epoch 1 📈 Train accuracy 0.660 ⏰ epoch_duration 16.34, sec 📉 Train loss:, 204.20\n",
            "Skel Rank 50. 😺 epoch 2 📈 Train accuracy 0.806 ⏰ epoch_duration 16.48, sec 📉 Train loss:, 122.40\n",
            "Skel Rank 50. 😺 epoch 3 📈 Train accuracy 0.845 ⏰ epoch_duration 16.30, sec 📉 Train loss:, 101.02\n",
            "Skel Rank 50. 😺 epoch 4 📈 Train accuracy 0.861 ⏰ epoch_duration 17.43, sec 📉 Train loss:, 89.92\n",
            "Skel Rank 50. 😺 epoch 5 📈 Train accuracy 0.872 ⏰ epoch_duration 16.56, sec 📉 Train loss:, 83.11\n",
            "Skel Rank 57. 😺 epoch 1 📈 Train accuracy 0.675 ⏰ epoch_duration 16.32, sec 📉 Train loss:, 201.47\n",
            "Skel Rank 57. 😺 epoch 2 📈 Train accuracy 0.812 ⏰ epoch_duration 16.27, sec 📉 Train loss:, 120.18\n",
            "Skel Rank 57. 😺 epoch 3 📈 Train accuracy 0.844 ⏰ epoch_duration 16.49, sec 📉 Train loss:, 102.21\n",
            "Skel Rank 57. 😺 epoch 4 📈 Train accuracy 0.860 ⏰ epoch_duration 16.17, sec 📉 Train loss:, 91.01\n",
            "Skel Rank 57. 😺 epoch 5 📈 Train accuracy 0.873 ⏰ epoch_duration 16.18, sec 📉 Train loss:, 82.98\n",
            "Skel Rank 64. 😺 epoch 1 📈 Train accuracy 0.672 ⏰ epoch_duration 16.21, sec 📉 Train loss:, 199.37\n",
            "Skel Rank 64. 😺 epoch 2 📈 Train accuracy 0.820 ⏰ epoch_duration 16.35, sec 📉 Train loss:, 114.55\n",
            "Skel Rank 64. 😺 epoch 3 📈 Train accuracy 0.856 ⏰ epoch_duration 16.92, sec 📉 Train loss:, 94.16\n",
            "Skel Rank 64. 😺 epoch 4 📈 Train accuracy 0.870 ⏰ epoch_duration 17.28, sec 📉 Train loss:, 84.66\n",
            "Skel Rank 64. 😺 epoch 5 📈 Train accuracy 0.879 ⏰ epoch_duration 16.51, sec 📉 Train loss:, 78.41\n"
          ]
        }
      ],
      "source": [
        "sk_errs, sk_par_nums = [], []\n",
        "ranks = np.linspace(1, 64, 10).astype(int)\n",
        "for rank in ranks:\n",
        "    rank = int(rank)\n",
        "\n",
        "    acc, par_num = run_skeleton_training(rank)\n",
        "    sk_errs.append(1 - acc)\n",
        "    sk_par_nums.append(par_num)"
      ]
    },
    {
      "cell_type": "code",
      "execution_count": null,
      "metadata": {
        "colab": {
          "base_uri": "https://localhost:8080/",
          "height": 279
        },
        "id": "TKbVuJwG9pPz",
        "outputId": "c50c882a-88ca-45d3-e550-48d161532f01"
      },
      "outputs": [
        {
          "data": {
            "image/png": "[encoded data removed]",
            "text/plain": [
              "<Figure size 432x288 with 1 Axes>"
            ]
          },
          "metadata": {
            "needs_background": "light"
          },
          "output_type": "display_data"
        }
      ],
      "source": [
        "plt.xlabel(\"Skeleton rank\")\n",
        "plt.ylabel(\"Test error after 5 epochs\")\n",
        "plt.plot(ranks, sk_errs, label='Skeleton decomposition of FC')\n",
        "plt.plot(64, lenet_err, 'rx', label=\"No approximation\")\n",
        "plt.grid(True, ls=':')\n",
        "plt.legend()\n",
        "plt.show()"
      ]
    },
    {
      "cell_type": "code",
      "execution_count": null,
      "metadata": {
        "colab": {
          "base_uri": "https://localhost:8080/",
          "height": 279
        },
        "id": "rLkeTxfF8nuB",
        "outputId": "a9c94b0d-ae12-4c57-ceae-3a96b0ae4480"
      },
      "outputs": [
        {
          "data": {
            "image/png": "[encoded data removed]",
            "text/plain": [
              "<Figure size 432x288 with 1 Axes>"
            ]
          },
          "metadata": {
            "needs_background": "light"
          },
          "output_type": "display_data"
        }
      ],
      "source": [
        "plt.xlabel(\"# of model parameters\")\n",
        "plt.ylabel(\"Test error after 5 epochs\")\n",
        "plt.plot(sk_par_nums, sk_errs, label='Skeleton decomposition of FC')\n",
        "plt.plot(lenet_num_par, lenet_err, 'rx', label=\"No approximation\")\n",
        "plt.grid(True, ls=':')\n",
        "plt.legend()\n",
        "plt.show()"
      ]
    },
    {
      "attachments": {},
      "cell_type": "markdown",
      "metadata": {
        "id": "e1zVeAddo87y"
      },
      "source": [
        "TASK: try different rank of Skeleton applied to the trained layer without fine-tuning. Plot the results. Compare it to the previous approach."
      ]
    },
    {
      "attachments": {},
      "cell_type": "markdown",
      "metadata": {},
      "source": []
    }
  ],
  "metadata": {
    "accelerator": "GPU",
    "colab": {
      "provenance": [],
      "toc_visible": true
    },
    "gpuClass": "standard",
    "kernelspec": {
      "display_name": "Python 3",
      "name": "python3"
    },
    "language_info": {
      "name": "python"
    },
    "widgets": {
      "application/vnd.jupyter.widget-state+json": {
        "023894ade345439c93b7597d6830d6ce": {
          "model_module": "@jupyter-widgets/controls",
          "model_module_version": "1.5.0",
          "model_name": "HTMLModel",
          "state": {
            "_dom_classes": [],
            "_model_module": "@jupyter-widgets/controls",
            "_model_module_version": "1.5.0",
            "_model_name": "HTMLModel",
            "_view_count": null,
            "_view_module": "@jupyter-widgets/controls",
            "_view_module_version": "1.5.0",
            "_view_name": "HTMLView",
            "description": "",
            "description_tooltip": null,
            "layout": "IPY_MODEL_6bb39bf8d268491e9216b580411e1ae3",
            "placeholder": "​",
            "style": "IPY_MODEL_d57286d7457f4debb402a889b6138a90",
            "value": "100%"
          }
        },
        "027c9b16aebe4d918113130b8f7a4b37": {
          "model_module": "@jupyter-widgets/base",
          "model_module_version": "1.2.0",
          "model_name": "LayoutModel",
          "state": {
            "_model_module": "@jupyter-widgets/base",
            "_model_module_version": "1.2.0",
            "_model_name": "LayoutModel",
            "_view_count": null,
            "_view_module": "@jupyter-widgets/base",
            "_view_module_version": "1.2.0",
            "_view_name": "LayoutView",
            "align_content": null,
            "align_items": null,
            "align_self": null,
            "border": null,
            "bottom": null,
            "display": null,
            "flex": null,
            "flex_flow": null,
            "grid_area": null,
            "grid_auto_columns": null,
            "grid_auto_flow": null,
            "grid_auto_rows": null,
            "grid_column": null,
            "grid_gap": null,
            "grid_row": null,
            "grid_template_areas": null,
            "grid_template_columns": null,
            "grid_template_rows": null,
            "height": null,
            "justify_content": null,
            "justify_items": null,
            "left": null,
            "margin": null,
            "max_height": null,
            "max_width": null,
            "min_height": null,
            "min_width": null,
            "object_fit": null,
            "object_position": null,
            "order": null,
            "overflow": null,
            "overflow_x": null,
            "overflow_y": null,
            "padding": null,
            "right": null,
            "top": null,
            "visibility": null,
            "width": null
          }
        },
        "04023cc507164d0ebba708ac7c8d5ea4": {
          "model_module": "@jupyter-widgets/base",
          "model_module_version": "1.2.0",
          "model_name": "LayoutModel",
          "state": {
            "_model_module": "@jupyter-widgets/base",
            "_model_module_version": "1.2.0",
            "_model_name": "LayoutModel",
            "_view_count": null,
            "_view_module": "@jupyter-widgets/base",
            "_view_module_version": "1.2.0",
            "_view_name": "LayoutView",
            "align_content": null,
            "align_items": null,
            "align_self": null,
            "border": null,
            "bottom": null,
            "display": null,
            "flex": null,
            "flex_flow": null,
            "grid_area": null,
            "grid_auto_columns": null,
            "grid_auto_flow": null,
            "grid_auto_rows": null,
            "grid_column": null,
            "grid_gap": null,
            "grid_row": null,
            "grid_template_areas": null,
            "grid_template_columns": null,
            "grid_template_rows": null,
            "height": null,
            "justify_content": null,
            "justify_items": null,
            "left": null,
            "margin": null,
            "max_height": null,
            "max_width": null,
            "min_height": null,
            "min_width": null,
            "object_fit": null,
            "object_position": null,
            "order": null,
            "overflow": null,
            "overflow_x": null,
            "overflow_y": null,
            "padding": null,
            "right": null,
            "top": null,
            "visibility": null,
            "width": null
          }
        },
        "0ea0c577d02640a78e7bcddd91e5c778": {
          "model_module": "@jupyter-widgets/controls",
          "model_module_version": "1.5.0",
          "model_name": "FloatProgressModel",
          "state": {
            "_dom_classes": [],
            "_model_module": "@jupyter-widgets/controls",
            "_model_module_version": "1.5.0",
            "_model_name": "FloatProgressModel",
            "_view_count": null,
            "_view_module": "@jupyter-widgets/controls",
            "_view_module_version": "1.5.0",
            "_view_name": "ProgressView",
            "bar_style": "success",
            "description": "",
            "description_tooltip": null,
            "layout": "IPY_MODEL_cca487a0756042c8be8201910cc636e1",
            "max": 235,
            "min": 0,
            "orientation": "horizontal",
            "style": "IPY_MODEL_ca7ce2724b0f47ad93f304427e38a371",
            "value": 235
          }
        },
        "0ff33c376fed4157b505ed2d2dcf1638": {
          "model_module": "@jupyter-widgets/controls",
          "model_module_version": "1.5.0",
          "model_name": "DescriptionStyleModel",
          "state": {
            "_model_module": "@jupyter-widgets/controls",
            "_model_module_version": "1.5.0",
            "_model_name": "DescriptionStyleModel",
            "_view_count": null,
            "_view_module": "@jupyter-widgets/base",
            "_view_module_version": "1.2.0",
            "_view_name": "StyleView",
            "description_width": ""
          }
        },
        "10a940e1bb8548928f9a332dc62090f4": {
          "model_module": "@jupyter-widgets/base",
          "model_module_version": "1.2.0",
          "model_name": "LayoutModel",
          "state": {
            "_model_module": "@jupyter-widgets/base",
            "_model_module_version": "1.2.0",
            "_model_name": "LayoutModel",
            "_view_count": null,
            "_view_module": "@jupyter-widgets/base",
            "_view_module_version": "1.2.0",
            "_view_name": "LayoutView",
            "align_content": null,
            "align_items": null,
            "align_self": null,
            "border": null,
            "bottom": null,
            "display": null,
            "flex": null,
            "flex_flow": null,
            "grid_area": null,
            "grid_auto_columns": null,
            "grid_auto_flow": null,
            "grid_auto_rows": null,
            "grid_column": null,
            "grid_gap": null,
            "grid_row": null,
            "grid_template_areas": null,
            "grid_template_columns": null,
            "grid_template_rows": null,
            "height": null,
            "justify_content": null,
            "justify_items": null,
            "left": null,
            "margin": null,
            "max_height": null,
            "max_width": null,
            "min_height": null,
            "min_width": null,
            "object_fit": null,
            "object_position": null,
            "order": null,
            "overflow": null,
            "overflow_x": null,
            "overflow_y": null,
            "padding": null,
            "right": null,
            "top": null,
            "visibility": null,
            "width": null
          }
        },
        "240d62aa2b9c44fe99ab16c992be0396": {
          "model_module": "@jupyter-widgets/base",
          "model_module_version": "1.2.0",
          "model_name": "LayoutModel",
          "state": {
            "_model_module": "@jupyter-widgets/base",
            "_model_module_version": "1.2.0",
            "_model_name": "LayoutModel",
            "_view_count": null,
            "_view_module": "@jupyter-widgets/base",
            "_view_module_version": "1.2.0",
            "_view_name": "LayoutView",
            "align_content": null,
            "align_items": null,
            "align_self": null,
            "border": null,
            "bottom": null,
            "display": null,
            "flex": null,
            "flex_flow": null,
            "grid_area": null,
            "grid_auto_columns": null,
            "grid_auto_flow": null,
            "grid_auto_rows": null,
            "grid_column": null,
            "grid_gap": null,
            "grid_row": null,
            "grid_template_areas": null,
            "grid_template_columns": null,
            "grid_template_rows": null,
            "height": null,
            "justify_content": null,
            "justify_items": null,
            "left": null,
            "margin": null,
            "max_height": null,
            "max_width": null,
            "min_height": null,
            "min_width": null,
            "object_fit": null,
            "object_position": null,
            "order": null,
            "overflow": null,
            "overflow_x": null,
            "overflow_y": null,
            "padding": null,
            "right": null,
            "top": null,
            "visibility": null,
            "width": null
          }
        },
        "2850331ea11a45f49844e82e5faff687": {
          "model_module": "@jupyter-widgets/controls",
          "model_module_version": "1.5.0",
          "model_name": "ProgressStyleModel",
          "state": {
            "_model_module": "@jupyter-widgets/controls",
            "_model_module_version": "1.5.0",
            "_model_name": "ProgressStyleModel",
            "_view_count": null,
            "_view_module": "@jupyter-widgets/base",
            "_view_module_version": "1.2.0",
            "_view_name": "StyleView",
            "bar_color": null,
            "description_width": ""
          }
        },
        "2ee44d16ba7b44e286df90d06d09fe98": {
          "model_module": "@jupyter-widgets/controls",
          "model_module_version": "1.5.0",
          "model_name": "DescriptionStyleModel",
          "state": {
            "_model_module": "@jupyter-widgets/controls",
            "_model_module_version": "1.5.0",
            "_model_name": "DescriptionStyleModel",
            "_view_count": null,
            "_view_module": "@jupyter-widgets/base",
            "_view_module_version": "1.2.0",
            "_view_name": "StyleView",
            "description_width": ""
          }
        },
        "2f5563eff9ba40968b827f074e3b2ef5": {
          "model_module": "@jupyter-widgets/controls",
          "model_module_version": "1.5.0",
          "model_name": "HTMLModel",
          "state": {
            "_dom_classes": [],
            "_model_module": "@jupyter-widgets/controls",
            "_model_module_version": "1.5.0",
            "_model_name": "HTMLModel",
            "_view_count": null,
            "_view_module": "@jupyter-widgets/controls",
            "_view_module_version": "1.5.0",
            "_view_name": "HTMLView",
            "description": "",
            "description_tooltip": null,
            "layout": "IPY_MODEL_027c9b16aebe4d918113130b8f7a4b37",
            "placeholder": "​",
            "style": "IPY_MODEL_da94e8d4dfa14c48a9b9ffa3ea51e4cf",
            "value": " 235/235 [00:18&lt;00:00, 13.49it/s]"
          }
        },
        "312889eec1af4148afe0d78d376d4919": {
          "model_module": "@jupyter-widgets/base",
          "model_module_version": "1.2.0",
          "model_name": "LayoutModel",
          "state": {
            "_model_module": "@jupyter-widgets/base",
            "_model_module_version": "1.2.0",
            "_model_name": "LayoutModel",
            "_view_count": null,
            "_view_module": "@jupyter-widgets/base",
            "_view_module_version": "1.2.0",
            "_view_name": "LayoutView",
            "align_content": null,
            "align_items": null,
            "align_self": null,
            "border": null,
            "bottom": null,
            "display": null,
            "flex": null,
            "flex_flow": null,
            "grid_area": null,
            "grid_auto_columns": null,
            "grid_auto_flow": null,
            "grid_auto_rows": null,
            "grid_column": null,
            "grid_gap": null,
            "grid_row": null,
            "grid_template_areas": null,
            "grid_template_columns": null,
            "grid_template_rows": null,
            "height": null,
            "justify_content": null,
            "justify_items": null,
            "left": null,
            "margin": null,
            "max_height": null,
            "max_width": null,
            "min_height": null,
            "min_width": null,
            "object_fit": null,
            "object_position": null,
            "order": null,
            "overflow": null,
            "overflow_x": null,
            "overflow_y": null,
            "padding": null,
            "right": null,
            "top": null,
            "visibility": null,
            "width": null
          }
        },
        "347a5ad0fef14af6a0aec94a080328b2": {
          "model_module": "@jupyter-widgets/controls",
          "model_module_version": "1.5.0",
          "model_name": "FloatProgressModel",
          "state": {
            "_dom_classes": [],
            "_model_module": "@jupyter-widgets/controls",
            "_model_module_version": "1.5.0",
            "_model_name": "FloatProgressModel",
            "_view_count": null,
            "_view_module": "@jupyter-widgets/controls",
            "_view_module_version": "1.5.0",
            "_view_name": "ProgressView",
            "bar_style": "success",
            "description": "",
            "description_tooltip": null,
            "layout": "IPY_MODEL_45697987e7734b69ae0401f958b74b65",
            "max": 235,
            "min": 0,
            "orientation": "horizontal",
            "style": "IPY_MODEL_d108279dbdaa4d359de4e9daee85a876",
            "value": 235
          }
        },
        "37cdbe0be63b4008891e7d8b93125b3e": {
          "model_module": "@jupyter-widgets/controls",
          "model_module_version": "1.5.0",
          "model_name": "HBoxModel",
          "state": {
            "_dom_classes": [],
            "_model_module": "@jupyter-widgets/controls",
            "_model_module_version": "1.5.0",
            "_model_name": "HBoxModel",
            "_view_count": null,
            "_view_module": "@jupyter-widgets/controls",
            "_view_module_version": "1.5.0",
            "_view_name": "HBoxView",
            "box_style": "",
            "children": [
              "IPY_MODEL_e9b47bd0dbd9407a95fca898d48dee91",
              "IPY_MODEL_4492c910f5474c6b9c21c82619769ac5",
              "IPY_MODEL_2f5563eff9ba40968b827f074e3b2ef5"
            ],
            "layout": "IPY_MODEL_c0a7b7ed2edd4957a2a3b0427c6a8a74"
          }
        },
        "3aab6926ca014f58bdde717f7dc94de5": {
          "model_module": "@jupyter-widgets/base",
          "model_module_version": "1.2.0",
          "model_name": "LayoutModel",
          "state": {
            "_model_module": "@jupyter-widgets/base",
            "_model_module_version": "1.2.0",
            "_model_name": "LayoutModel",
            "_view_count": null,
            "_view_module": "@jupyter-widgets/base",
            "_view_module_version": "1.2.0",
            "_view_name": "LayoutView",
            "align_content": null,
            "align_items": null,
            "align_self": null,
            "border": null,
            "bottom": null,
            "display": null,
            "flex": null,
            "flex_flow": null,
            "grid_area": null,
            "grid_auto_columns": null,
            "grid_auto_flow": null,
            "grid_auto_rows": null,
            "grid_column": null,
            "grid_gap": null,
            "grid_row": null,
            "grid_template_areas": null,
            "grid_template_columns": null,
            "grid_template_rows": null,
            "height": null,
            "justify_content": null,
            "justify_items": null,
            "left": null,
            "margin": null,
            "max_height": null,
            "max_width": null,
            "min_height": null,
            "min_width": null,
            "object_fit": null,
            "object_position": null,
            "order": null,
            "overflow": null,
            "overflow_x": null,
            "overflow_y": null,
            "padding": null,
            "right": null,
            "top": null,
            "visibility": null,
            "width": null
          }
        },
        "4492c910f5474c6b9c21c82619769ac5": {
          "model_module": "@jupyter-widgets/controls",
          "model_module_version": "1.5.0",
          "model_name": "FloatProgressModel",
          "state": {
            "_dom_classes": [],
            "_model_module": "@jupyter-widgets/controls",
            "_model_module_version": "1.5.0",
            "_model_name": "FloatProgressModel",
            "_view_count": null,
            "_view_module": "@jupyter-widgets/controls",
            "_view_module_version": "1.5.0",
            "_view_name": "ProgressView",
            "bar_style": "success",
            "description": "",
            "description_tooltip": null,
            "layout": "IPY_MODEL_f915d332c88840a7944ddd729128fb2f",
            "max": 235,
            "min": 0,
            "orientation": "horizontal",
            "style": "IPY_MODEL_5d9d90a307024557abe3d75906b6dfbc",
            "value": 235
          }
        },
        "45697987e7734b69ae0401f958b74b65": {
          "model_module": "@jupyter-widgets/base",
          "model_module_version": "1.2.0",
          "model_name": "LayoutModel",
          "state": {
            "_model_module": "@jupyter-widgets/base",
            "_model_module_version": "1.2.0",
            "_model_name": "LayoutModel",
            "_view_count": null,
            "_view_module": "@jupyter-widgets/base",
            "_view_module_version": "1.2.0",
            "_view_name": "LayoutView",
            "align_content": null,
            "align_items": null,
            "align_self": null,
            "border": null,
            "bottom": null,
            "display": null,
            "flex": null,
            "flex_flow": null,
            "grid_area": null,
            "grid_auto_columns": null,
            "grid_auto_flow": null,
            "grid_auto_rows": null,
            "grid_column": null,
            "grid_gap": null,
            "grid_row": null,
            "grid_template_areas": null,
            "grid_template_columns": null,
            "grid_template_rows": null,
            "height": null,
            "justify_content": null,
            "justify_items": null,
            "left": null,
            "margin": null,
            "max_height": null,
            "max_width": null,
            "min_height": null,
            "min_width": null,
            "object_fit": null,
            "object_position": null,
            "order": null,
            "overflow": null,
            "overflow_x": null,
            "overflow_y": null,
            "padding": null,
            "right": null,
            "top": null,
            "visibility": null,
            "width": null
          }
        },
        "49cd2b79fdb84893bc15ddca054fca92": {
          "model_module": "@jupyter-widgets/controls",
          "model_module_version": "1.5.0",
          "model_name": "HTMLModel",
          "state": {
            "_dom_classes": [],
            "_model_module": "@jupyter-widgets/controls",
            "_model_module_version": "1.5.0",
            "_model_name": "HTMLModel",
            "_view_count": null,
            "_view_module": "@jupyter-widgets/controls",
            "_view_module_version": "1.5.0",
            "_view_name": "HTMLView",
            "description": "",
            "description_tooltip": null,
            "layout": "IPY_MODEL_04023cc507164d0ebba708ac7c8d5ea4",
            "placeholder": "​",
            "style": "IPY_MODEL_87946f1740304ae28c93f56506e07026",
            "value": "100%"
          }
        },
        "5749d5e460174c09b60ef8240fd48ff0": {
          "model_module": "@jupyter-widgets/base",
          "model_module_version": "1.2.0",
          "model_name": "LayoutModel",
          "state": {
            "_model_module": "@jupyter-widgets/base",
            "_model_module_version": "1.2.0",
            "_model_name": "LayoutModel",
            "_view_count": null,
            "_view_module": "@jupyter-widgets/base",
            "_view_module_version": "1.2.0",
            "_view_name": "LayoutView",
            "align_content": null,
            "align_items": null,
            "align_self": null,
            "border": null,
            "bottom": null,
            "display": null,
            "flex": null,
            "flex_flow": null,
            "grid_area": null,
            "grid_auto_columns": null,
            "grid_auto_flow": null,
            "grid_auto_rows": null,
            "grid_column": null,
            "grid_gap": null,
            "grid_row": null,
            "grid_template_areas": null,
            "grid_template_columns": null,
            "grid_template_rows": null,
            "height": null,
            "justify_content": null,
            "justify_items": null,
            "left": null,
            "margin": null,
            "max_height": null,
            "max_width": null,
            "min_height": null,
            "min_width": null,
            "object_fit": null,
            "object_position": null,
            "order": null,
            "overflow": null,
            "overflow_x": null,
            "overflow_y": null,
            "padding": null,
            "right": null,
            "top": null,
            "visibility": null,
            "width": null
          }
        },
        "5b678c1930a1432c9517a6153422ce6e": {
          "model_module": "@jupyter-widgets/controls",
          "model_module_version": "1.5.0",
          "model_name": "HTMLModel",
          "state": {
            "_dom_classes": [],
            "_model_module": "@jupyter-widgets/controls",
            "_model_module_version": "1.5.0",
            "_model_name": "HTMLModel",
            "_view_count": null,
            "_view_module": "@jupyter-widgets/controls",
            "_view_module_version": "1.5.0",
            "_view_name": "HTMLView",
            "description": "",
            "description_tooltip": null,
            "layout": "IPY_MODEL_bba6c0bc09124d0caba9351e80f72323",
            "placeholder": "​",
            "style": "IPY_MODEL_85c6394d56964cb29b7f50cfc3528119",
            "value": " 235/235 [00:17&lt;00:00, 13.55it/s]"
          }
        },
        "5d9d90a307024557abe3d75906b6dfbc": {
          "model_module": "@jupyter-widgets/controls",
          "model_module_version": "1.5.0",
          "model_name": "ProgressStyleModel",
          "state": {
            "_model_module": "@jupyter-widgets/controls",
            "_model_module_version": "1.5.0",
            "_model_name": "ProgressStyleModel",
            "_view_count": null,
            "_view_module": "@jupyter-widgets/base",
            "_view_module_version": "1.2.0",
            "_view_name": "StyleView",
            "bar_color": null,
            "description_width": ""
          }
        },
        "632ec9ded48445f78653e5bac1eb471d": {
          "model_module": "@jupyter-widgets/controls",
          "model_module_version": "1.5.0",
          "model_name": "DescriptionStyleModel",
          "state": {
            "_model_module": "@jupyter-widgets/controls",
            "_model_module_version": "1.5.0",
            "_model_name": "DescriptionStyleModel",
            "_view_count": null,
            "_view_module": "@jupyter-widgets/base",
            "_view_module_version": "1.2.0",
            "_view_name": "StyleView",
            "description_width": ""
          }
        },
        "6604f2ed554a4b5ba65f3b9aff3642c8": {
          "model_module": "@jupyter-widgets/controls",
          "model_module_version": "1.5.0",
          "model_name": "HBoxModel",
          "state": {
            "_dom_classes": [],
            "_model_module": "@jupyter-widgets/controls",
            "_model_module_version": "1.5.0",
            "_model_name": "HBoxModel",
            "_view_count": null,
            "_view_module": "@jupyter-widgets/controls",
            "_view_module_version": "1.5.0",
            "_view_name": "HBoxView",
            "box_style": "",
            "children": [
              "IPY_MODEL_f2e5184f63414673b18ee6c5d27dda5b",
              "IPY_MODEL_e8801990350c4971b57ddd2599e59695",
              "IPY_MODEL_a6804a21495b4d75bec6dfc1393fef31"
            ],
            "layout": "IPY_MODEL_312889eec1af4148afe0d78d376d4919"
          }
        },
        "6bb39bf8d268491e9216b580411e1ae3": {
          "model_module": "@jupyter-widgets/base",
          "model_module_version": "1.2.0",
          "model_name": "LayoutModel",
          "state": {
            "_model_module": "@jupyter-widgets/base",
            "_model_module_version": "1.2.0",
            "_model_name": "LayoutModel",
            "_view_count": null,
            "_view_module": "@jupyter-widgets/base",
            "_view_module_version": "1.2.0",
            "_view_name": "LayoutView",
            "align_content": null,
            "align_items": null,
            "align_self": null,
            "border": null,
            "bottom": null,
            "display": null,
            "flex": null,
            "flex_flow": null,
            "grid_area": null,
            "grid_auto_columns": null,
            "grid_auto_flow": null,
            "grid_auto_rows": null,
            "grid_column": null,
            "grid_gap": null,
            "grid_row": null,
            "grid_template_areas": null,
            "grid_template_columns": null,
            "grid_template_rows": null,
            "height": null,
            "justify_content": null,
            "justify_items": null,
            "left": null,
            "margin": null,
            "max_height": null,
            "max_width": null,
            "min_height": null,
            "min_width": null,
            "object_fit": null,
            "object_position": null,
            "order": null,
            "overflow": null,
            "overflow_x": null,
            "overflow_y": null,
            "padding": null,
            "right": null,
            "top": null,
            "visibility": null,
            "width": null
          }
        },
        "73729ca043aa4c41883272b501af2e0b": {
          "model_module": "@jupyter-widgets/base",
          "model_module_version": "1.2.0",
          "model_name": "LayoutModel",
          "state": {
            "_model_module": "@jupyter-widgets/base",
            "_model_module_version": "1.2.0",
            "_model_name": "LayoutModel",
            "_view_count": null,
            "_view_module": "@jupyter-widgets/base",
            "_view_module_version": "1.2.0",
            "_view_name": "LayoutView",
            "align_content": null,
            "align_items": null,
            "align_self": null,
            "border": null,
            "bottom": null,
            "display": null,
            "flex": null,
            "flex_flow": null,
            "grid_area": null,
            "grid_auto_columns": null,
            "grid_auto_flow": null,
            "grid_auto_rows": null,
            "grid_column": null,
            "grid_gap": null,
            "grid_row": null,
            "grid_template_areas": null,
            "grid_template_columns": null,
            "grid_template_rows": null,
            "height": null,
            "justify_content": null,
            "justify_items": null,
            "left": null,
            "margin": null,
            "max_height": null,
            "max_width": null,
            "min_height": null,
            "min_width": null,
            "object_fit": null,
            "object_position": null,
            "order": null,
            "overflow": null,
            "overflow_x": null,
            "overflow_y": null,
            "padding": null,
            "right": null,
            "top": null,
            "visibility": null,
            "width": null
          }
        },
        "75309fe23b5c4958a2deab49a5e2e4e2": {
          "model_module": "@jupyter-widgets/base",
          "model_module_version": "1.2.0",
          "model_name": "LayoutModel",
          "state": {
            "_model_module": "@jupyter-widgets/base",
            "_model_module_version": "1.2.0",
            "_model_name": "LayoutModel",
            "_view_count": null,
            "_view_module": "@jupyter-widgets/base",
            "_view_module_version": "1.2.0",
            "_view_name": "LayoutView",
            "align_content": null,
            "align_items": null,
            "align_self": null,
            "border": null,
            "bottom": null,
            "display": null,
            "flex": null,
            "flex_flow": null,
            "grid_area": null,
            "grid_auto_columns": null,
            "grid_auto_flow": null,
            "grid_auto_rows": null,
            "grid_column": null,
            "grid_gap": null,
            "grid_row": null,
            "grid_template_areas": null,
            "grid_template_columns": null,
            "grid_template_rows": null,
            "height": null,
            "justify_content": null,
            "justify_items": null,
            "left": null,
            "margin": null,
            "max_height": null,
            "max_width": null,
            "min_height": null,
            "min_width": null,
            "object_fit": null,
            "object_position": null,
            "order": null,
            "overflow": null,
            "overflow_x": null,
            "overflow_y": null,
            "padding": null,
            "right": null,
            "top": null,
            "visibility": null,
            "width": null
          }
        },
        "7b4eb9f3cc3f40f0a00d18ce3723519b": {
          "model_module": "@jupyter-widgets/controls",
          "model_module_version": "1.5.0",
          "model_name": "HTMLModel",
          "state": {
            "_dom_classes": [],
            "_model_module": "@jupyter-widgets/controls",
            "_model_module_version": "1.5.0",
            "_model_name": "HTMLModel",
            "_view_count": null,
            "_view_module": "@jupyter-widgets/controls",
            "_view_module_version": "1.5.0",
            "_view_name": "HTMLView",
            "description": "",
            "description_tooltip": null,
            "layout": "IPY_MODEL_240d62aa2b9c44fe99ab16c992be0396",
            "placeholder": "​",
            "style": "IPY_MODEL_2ee44d16ba7b44e286df90d06d09fe98",
            "value": "100%"
          }
        },
        "7bb0f86463374b658c1dce9a593b9c72": {
          "model_module": "@jupyter-widgets/base",
          "model_module_version": "1.2.0",
          "model_name": "LayoutModel",
          "state": {
            "_model_module": "@jupyter-widgets/base",
            "_model_module_version": "1.2.0",
            "_model_name": "LayoutModel",
            "_view_count": null,
            "_view_module": "@jupyter-widgets/base",
            "_view_module_version": "1.2.0",
            "_view_name": "LayoutView",
            "align_content": null,
            "align_items": null,
            "align_self": null,
            "border": null,
            "bottom": null,
            "display": null,
            "flex": null,
            "flex_flow": null,
            "grid_area": null,
            "grid_auto_columns": null,
            "grid_auto_flow": null,
            "grid_auto_rows": null,
            "grid_column": null,
            "grid_gap": null,
            "grid_row": null,
            "grid_template_areas": null,
            "grid_template_columns": null,
            "grid_template_rows": null,
            "height": null,
            "justify_content": null,
            "justify_items": null,
            "left": null,
            "margin": null,
            "max_height": null,
            "max_width": null,
            "min_height": null,
            "min_width": null,
            "object_fit": null,
            "object_position": null,
            "order": null,
            "overflow": null,
            "overflow_x": null,
            "overflow_y": null,
            "padding": null,
            "right": null,
            "top": null,
            "visibility": null,
            "width": null
          }
        },
        "85c6394d56964cb29b7f50cfc3528119": {
          "model_module": "@jupyter-widgets/controls",
          "model_module_version": "1.5.0",
          "model_name": "DescriptionStyleModel",
          "state": {
            "_model_module": "@jupyter-widgets/controls",
            "_model_module_version": "1.5.0",
            "_model_name": "DescriptionStyleModel",
            "_view_count": null,
            "_view_module": "@jupyter-widgets/base",
            "_view_module_version": "1.2.0",
            "_view_name": "StyleView",
            "description_width": ""
          }
        },
        "87946f1740304ae28c93f56506e07026": {
          "model_module": "@jupyter-widgets/controls",
          "model_module_version": "1.5.0",
          "model_name": "DescriptionStyleModel",
          "state": {
            "_model_module": "@jupyter-widgets/controls",
            "_model_module_version": "1.5.0",
            "_model_name": "DescriptionStyleModel",
            "_view_count": null,
            "_view_module": "@jupyter-widgets/base",
            "_view_module_version": "1.2.0",
            "_view_name": "StyleView",
            "description_width": ""
          }
        },
        "8b61dc255d5f4a23a1152f439ad2deb2": {
          "model_module": "@jupyter-widgets/base",
          "model_module_version": "1.2.0",
          "model_name": "LayoutModel",
          "state": {
            "_model_module": "@jupyter-widgets/base",
            "_model_module_version": "1.2.0",
            "_model_name": "LayoutModel",
            "_view_count": null,
            "_view_module": "@jupyter-widgets/base",
            "_view_module_version": "1.2.0",
            "_view_name": "LayoutView",
            "align_content": null,
            "align_items": null,
            "align_self": null,
            "border": null,
            "bottom": null,
            "display": null,
            "flex": null,
            "flex_flow": null,
            "grid_area": null,
            "grid_auto_columns": null,
            "grid_auto_flow": null,
            "grid_auto_rows": null,
            "grid_column": null,
            "grid_gap": null,
            "grid_row": null,
            "grid_template_areas": null,
            "grid_template_columns": null,
            "grid_template_rows": null,
            "height": null,
            "justify_content": null,
            "justify_items": null,
            "left": null,
            "margin": null,
            "max_height": null,
            "max_width": null,
            "min_height": null,
            "min_width": null,
            "object_fit": null,
            "object_position": null,
            "order": null,
            "overflow": null,
            "overflow_x": null,
            "overflow_y": null,
            "padding": null,
            "right": null,
            "top": null,
            "visibility": null,
            "width": null
          }
        },
        "8d847c14b8aa487c990b40938b7dd0c3": {
          "model_module": "@jupyter-widgets/controls",
          "model_module_version": "1.5.0",
          "model_name": "HBoxModel",
          "state": {
            "_dom_classes": [],
            "_model_module": "@jupyter-widgets/controls",
            "_model_module_version": "1.5.0",
            "_model_name": "HBoxModel",
            "_view_count": null,
            "_view_module": "@jupyter-widgets/controls",
            "_view_module_version": "1.5.0",
            "_view_name": "HBoxView",
            "box_style": "",
            "children": [
              "IPY_MODEL_49cd2b79fdb84893bc15ddca054fca92",
              "IPY_MODEL_0ea0c577d02640a78e7bcddd91e5c778",
              "IPY_MODEL_e665ebd26fd04519afe88b7f82a8e024"
            ],
            "layout": "IPY_MODEL_3aab6926ca014f58bdde717f7dc94de5"
          }
        },
        "8e6ba1a834844ce9bfc38b260509f8d1": {
          "model_module": "@jupyter-widgets/base",
          "model_module_version": "1.2.0",
          "model_name": "LayoutModel",
          "state": {
            "_model_module": "@jupyter-widgets/base",
            "_model_module_version": "1.2.0",
            "_model_name": "LayoutModel",
            "_view_count": null,
            "_view_module": "@jupyter-widgets/base",
            "_view_module_version": "1.2.0",
            "_view_name": "LayoutView",
            "align_content": null,
            "align_items": null,
            "align_self": null,
            "border": null,
            "bottom": null,
            "display": null,
            "flex": null,
            "flex_flow": null,
            "grid_area": null,
            "grid_auto_columns": null,
            "grid_auto_flow": null,
            "grid_auto_rows": null,
            "grid_column": null,
            "grid_gap": null,
            "grid_row": null,
            "grid_template_areas": null,
            "grid_template_columns": null,
            "grid_template_rows": null,
            "height": null,
            "justify_content": null,
            "justify_items": null,
            "left": null,
            "margin": null,
            "max_height": null,
            "max_width": null,
            "min_height": null,
            "min_width": null,
            "object_fit": null,
            "object_position": null,
            "order": null,
            "overflow": null,
            "overflow_x": null,
            "overflow_y": null,
            "padding": null,
            "right": null,
            "top": null,
            "visibility": null,
            "width": null
          }
        },
        "9ff1ea23950c4b60a6fb1f16cf07f9bb": {
          "model_module": "@jupyter-widgets/controls",
          "model_module_version": "1.5.0",
          "model_name": "ProgressStyleModel",
          "state": {
            "_model_module": "@jupyter-widgets/controls",
            "_model_module_version": "1.5.0",
            "_model_name": "ProgressStyleModel",
            "_view_count": null,
            "_view_module": "@jupyter-widgets/base",
            "_view_module_version": "1.2.0",
            "_view_name": "StyleView",
            "bar_color": null,
            "description_width": ""
          }
        },
        "a16a8c9303734561a70af1ff25f1c9de": {
          "model_module": "@jupyter-widgets/controls",
          "model_module_version": "1.5.0",
          "model_name": "DescriptionStyleModel",
          "state": {
            "_model_module": "@jupyter-widgets/controls",
            "_model_module_version": "1.5.0",
            "_model_name": "DescriptionStyleModel",
            "_view_count": null,
            "_view_module": "@jupyter-widgets/base",
            "_view_module_version": "1.2.0",
            "_view_name": "StyleView",
            "description_width": ""
          }
        },
        "a6804a21495b4d75bec6dfc1393fef31": {
          "model_module": "@jupyter-widgets/controls",
          "model_module_version": "1.5.0",
          "model_name": "HTMLModel",
          "state": {
            "_dom_classes": [],
            "_model_module": "@jupyter-widgets/controls",
            "_model_module_version": "1.5.0",
            "_model_name": "HTMLModel",
            "_view_count": null,
            "_view_module": "@jupyter-widgets/controls",
            "_view_module_version": "1.5.0",
            "_view_name": "HTMLView",
            "description": "",
            "description_tooltip": null,
            "layout": "IPY_MODEL_10a940e1bb8548928f9a332dc62090f4",
            "placeholder": "​",
            "style": "IPY_MODEL_0ff33c376fed4157b505ed2d2dcf1638",
            "value": " 235/235 [00:19&lt;00:00, 13.07it/s]"
          }
        },
        "a98da564fae1402cbf7d75686c240c2b": {
          "model_module": "@jupyter-widgets/controls",
          "model_module_version": "1.5.0",
          "model_name": "FloatProgressModel",
          "state": {
            "_dom_classes": [],
            "_model_module": "@jupyter-widgets/controls",
            "_model_module_version": "1.5.0",
            "_model_name": "FloatProgressModel",
            "_view_count": null,
            "_view_module": "@jupyter-widgets/controls",
            "_view_module_version": "1.5.0",
            "_view_name": "ProgressView",
            "bar_style": "success",
            "description": "",
            "description_tooltip": null,
            "layout": "IPY_MODEL_7bb0f86463374b658c1dce9a593b9c72",
            "max": 235,
            "min": 0,
            "orientation": "horizontal",
            "style": "IPY_MODEL_9ff1ea23950c4b60a6fb1f16cf07f9bb",
            "value": 235
          }
        },
        "bba6c0bc09124d0caba9351e80f72323": {
          "model_module": "@jupyter-widgets/base",
          "model_module_version": "1.2.0",
          "model_name": "LayoutModel",
          "state": {
            "_model_module": "@jupyter-widgets/base",
            "_model_module_version": "1.2.0",
            "_model_name": "LayoutModel",
            "_view_count": null,
            "_view_module": "@jupyter-widgets/base",
            "_view_module_version": "1.2.0",
            "_view_name": "LayoutView",
            "align_content": null,
            "align_items": null,
            "align_self": null,
            "border": null,
            "bottom": null,
            "display": null,
            "flex": null,
            "flex_flow": null,
            "grid_area": null,
            "grid_auto_columns": null,
            "grid_auto_flow": null,
            "grid_auto_rows": null,
            "grid_column": null,
            "grid_gap": null,
            "grid_row": null,
            "grid_template_areas": null,
            "grid_template_columns": null,
            "grid_template_rows": null,
            "height": null,
            "justify_content": null,
            "justify_items": null,
            "left": null,
            "margin": null,
            "max_height": null,
            "max_width": null,
            "min_height": null,
            "min_width": null,
            "object_fit": null,
            "object_position": null,
            "order": null,
            "overflow": null,
            "overflow_x": null,
            "overflow_y": null,
            "padding": null,
            "right": null,
            "top": null,
            "visibility": null,
            "width": null
          }
        },
        "c0a7b7ed2edd4957a2a3b0427c6a8a74": {
          "model_module": "@jupyter-widgets/base",
          "model_module_version": "1.2.0",
          "model_name": "LayoutModel",
          "state": {
            "_model_module": "@jupyter-widgets/base",
            "_model_module_version": "1.2.0",
            "_model_name": "LayoutModel",
            "_view_count": null,
            "_view_module": "@jupyter-widgets/base",
            "_view_module_version": "1.2.0",
            "_view_name": "LayoutView",
            "align_content": null,
            "align_items": null,
            "align_self": null,
            "border": null,
            "bottom": null,
            "display": null,
            "flex": null,
            "flex_flow": null,
            "grid_area": null,
            "grid_auto_columns": null,
            "grid_auto_flow": null,
            "grid_auto_rows": null,
            "grid_column": null,
            "grid_gap": null,
            "grid_row": null,
            "grid_template_areas": null,
            "grid_template_columns": null,
            "grid_template_rows": null,
            "height": null,
            "justify_content": null,
            "justify_items": null,
            "left": null,
            "margin": null,
            "max_height": null,
            "max_width": null,
            "min_height": null,
            "min_width": null,
            "object_fit": null,
            "object_position": null,
            "order": null,
            "overflow": null,
            "overflow_x": null,
            "overflow_y": null,
            "padding": null,
            "right": null,
            "top": null,
            "visibility": null,
            "width": null
          }
        },
        "c844030bda7446c8a42b1950ead7a0b8": {
          "model_module": "@jupyter-widgets/base",
          "model_module_version": "1.2.0",
          "model_name": "LayoutModel",
          "state": {
            "_model_module": "@jupyter-widgets/base",
            "_model_module_version": "1.2.0",
            "_model_name": "LayoutModel",
            "_view_count": null,
            "_view_module": "@jupyter-widgets/base",
            "_view_module_version": "1.2.0",
            "_view_name": "LayoutView",
            "align_content": null,
            "align_items": null,
            "align_self": null,
            "border": null,
            "bottom": null,
            "display": null,
            "flex": null,
            "flex_flow": null,
            "grid_area": null,
            "grid_auto_columns": null,
            "grid_auto_flow": null,
            "grid_auto_rows": null,
            "grid_column": null,
            "grid_gap": null,
            "grid_row": null,
            "grid_template_areas": null,
            "grid_template_columns": null,
            "grid_template_rows": null,
            "height": null,
            "justify_content": null,
            "justify_items": null,
            "left": null,
            "margin": null,
            "max_height": null,
            "max_width": null,
            "min_height": null,
            "min_width": null,
            "object_fit": null,
            "object_position": null,
            "order": null,
            "overflow": null,
            "overflow_x": null,
            "overflow_y": null,
            "padding": null,
            "right": null,
            "top": null,
            "visibility": null,
            "width": null
          }
        },
        "ca7ce2724b0f47ad93f304427e38a371": {
          "model_module": "@jupyter-widgets/controls",
          "model_module_version": "1.5.0",
          "model_name": "ProgressStyleModel",
          "state": {
            "_model_module": "@jupyter-widgets/controls",
            "_model_module_version": "1.5.0",
            "_model_name": "ProgressStyleModel",
            "_view_count": null,
            "_view_module": "@jupyter-widgets/base",
            "_view_module_version": "1.2.0",
            "_view_name": "StyleView",
            "bar_color": null,
            "description_width": ""
          }
        },
        "cbae49f58f9e423893ef4649a05a21e0": {
          "model_module": "@jupyter-widgets/controls",
          "model_module_version": "1.5.0",
          "model_name": "DescriptionStyleModel",
          "state": {
            "_model_module": "@jupyter-widgets/controls",
            "_model_module_version": "1.5.0",
            "_model_name": "DescriptionStyleModel",
            "_view_count": null,
            "_view_module": "@jupyter-widgets/base",
            "_view_module_version": "1.2.0",
            "_view_name": "StyleView",
            "description_width": ""
          }
        },
        "cca487a0756042c8be8201910cc636e1": {
          "model_module": "@jupyter-widgets/base",
          "model_module_version": "1.2.0",
          "model_name": "LayoutModel",
          "state": {
            "_model_module": "@jupyter-widgets/base",
            "_model_module_version": "1.2.0",
            "_model_name": "LayoutModel",
            "_view_count": null,
            "_view_module": "@jupyter-widgets/base",
            "_view_module_version": "1.2.0",
            "_view_name": "LayoutView",
            "align_content": null,
            "align_items": null,
            "align_self": null,
            "border": null,
            "bottom": null,
            "display": null,
            "flex": null,
            "flex_flow": null,
            "grid_area": null,
            "grid_auto_columns": null,
            "grid_auto_flow": null,
            "grid_auto_rows": null,
            "grid_column": null,
            "grid_gap": null,
            "grid_row": null,
            "grid_template_areas": null,
            "grid_template_columns": null,
            "grid_template_rows": null,
            "height": null,
            "justify_content": null,
            "justify_items": null,
            "left": null,
            "margin": null,
            "max_height": null,
            "max_width": null,
            "min_height": null,
            "min_width": null,
            "object_fit": null,
            "object_position": null,
            "order": null,
            "overflow": null,
            "overflow_x": null,
            "overflow_y": null,
            "padding": null,
            "right": null,
            "top": null,
            "visibility": null,
            "width": null
          }
        },
        "d108279dbdaa4d359de4e9daee85a876": {
          "model_module": "@jupyter-widgets/controls",
          "model_module_version": "1.5.0",
          "model_name": "ProgressStyleModel",
          "state": {
            "_model_module": "@jupyter-widgets/controls",
            "_model_module_version": "1.5.0",
            "_model_name": "ProgressStyleModel",
            "_view_count": null,
            "_view_module": "@jupyter-widgets/base",
            "_view_module_version": "1.2.0",
            "_view_name": "StyleView",
            "bar_color": null,
            "description_width": ""
          }
        },
        "d57286d7457f4debb402a889b6138a90": {
          "model_module": "@jupyter-widgets/controls",
          "model_module_version": "1.5.0",
          "model_name": "DescriptionStyleModel",
          "state": {
            "_model_module": "@jupyter-widgets/controls",
            "_model_module_version": "1.5.0",
            "_model_name": "DescriptionStyleModel",
            "_view_count": null,
            "_view_module": "@jupyter-widgets/base",
            "_view_module_version": "1.2.0",
            "_view_name": "StyleView",
            "description_width": ""
          }
        },
        "da94e8d4dfa14c48a9b9ffa3ea51e4cf": {
          "model_module": "@jupyter-widgets/controls",
          "model_module_version": "1.5.0",
          "model_name": "DescriptionStyleModel",
          "state": {
            "_model_module": "@jupyter-widgets/controls",
            "_model_module_version": "1.5.0",
            "_model_name": "DescriptionStyleModel",
            "_view_count": null,
            "_view_module": "@jupyter-widgets/base",
            "_view_module_version": "1.2.0",
            "_view_name": "StyleView",
            "description_width": ""
          }
        },
        "e1cca5be790a42c5b173d4646e44cc0f": {
          "model_module": "@jupyter-widgets/controls",
          "model_module_version": "1.5.0",
          "model_name": "HBoxModel",
          "state": {
            "_dom_classes": [],
            "_model_module": "@jupyter-widgets/controls",
            "_model_module_version": "1.5.0",
            "_model_name": "HBoxModel",
            "_view_count": null,
            "_view_module": "@jupyter-widgets/controls",
            "_view_module_version": "1.5.0",
            "_view_name": "HBoxView",
            "box_style": "",
            "children": [
              "IPY_MODEL_7b4eb9f3cc3f40f0a00d18ce3723519b",
              "IPY_MODEL_347a5ad0fef14af6a0aec94a080328b2",
              "IPY_MODEL_5b678c1930a1432c9517a6153422ce6e"
            ],
            "layout": "IPY_MODEL_c844030bda7446c8a42b1950ead7a0b8"
          }
        },
        "e4cb3ce6b9a04555bfe81ce7ad6dede2": {
          "model_module": "@jupyter-widgets/base",
          "model_module_version": "1.2.0",
          "model_name": "LayoutModel",
          "state": {
            "_model_module": "@jupyter-widgets/base",
            "_model_module_version": "1.2.0",
            "_model_name": "LayoutModel",
            "_view_count": null,
            "_view_module": "@jupyter-widgets/base",
            "_view_module_version": "1.2.0",
            "_view_name": "LayoutView",
            "align_content": null,
            "align_items": null,
            "align_self": null,
            "border": null,
            "bottom": null,
            "display": null,
            "flex": null,
            "flex_flow": null,
            "grid_area": null,
            "grid_auto_columns": null,
            "grid_auto_flow": null,
            "grid_auto_rows": null,
            "grid_column": null,
            "grid_gap": null,
            "grid_row": null,
            "grid_template_areas": null,
            "grid_template_columns": null,
            "grid_template_rows": null,
            "height": null,
            "justify_content": null,
            "justify_items": null,
            "left": null,
            "margin": null,
            "max_height": null,
            "max_width": null,
            "min_height": null,
            "min_width": null,
            "object_fit": null,
            "object_position": null,
            "order": null,
            "overflow": null,
            "overflow_x": null,
            "overflow_y": null,
            "padding": null,
            "right": null,
            "top": null,
            "visibility": null,
            "width": null
          }
        },
        "e665ebd26fd04519afe88b7f82a8e024": {
          "model_module": "@jupyter-widgets/controls",
          "model_module_version": "1.5.0",
          "model_name": "HTMLModel",
          "state": {
            "_dom_classes": [],
            "_model_module": "@jupyter-widgets/controls",
            "_model_module_version": "1.5.0",
            "_model_name": "HTMLModel",
            "_view_count": null,
            "_view_module": "@jupyter-widgets/controls",
            "_view_module_version": "1.5.0",
            "_view_name": "HTMLView",
            "description": "",
            "description_tooltip": null,
            "layout": "IPY_MODEL_73729ca043aa4c41883272b501af2e0b",
            "placeholder": "​",
            "style": "IPY_MODEL_cbae49f58f9e423893ef4649a05a21e0",
            "value": " 235/235 [00:18&lt;00:00, 13.27it/s]"
          }
        },
        "e8801990350c4971b57ddd2599e59695": {
          "model_module": "@jupyter-widgets/controls",
          "model_module_version": "1.5.0",
          "model_name": "FloatProgressModel",
          "state": {
            "_dom_classes": [],
            "_model_module": "@jupyter-widgets/controls",
            "_model_module_version": "1.5.0",
            "_model_name": "FloatProgressModel",
            "_view_count": null,
            "_view_module": "@jupyter-widgets/controls",
            "_view_module_version": "1.5.0",
            "_view_name": "ProgressView",
            "bar_style": "success",
            "description": "",
            "description_tooltip": null,
            "layout": "IPY_MODEL_75309fe23b5c4958a2deab49a5e2e4e2",
            "max": 235,
            "min": 0,
            "orientation": "horizontal",
            "style": "IPY_MODEL_2850331ea11a45f49844e82e5faff687",
            "value": 235
          }
        },
        "e9b47bd0dbd9407a95fca898d48dee91": {
          "model_module": "@jupyter-widgets/controls",
          "model_module_version": "1.5.0",
          "model_name": "HTMLModel",
          "state": {
            "_dom_classes": [],
            "_model_module": "@jupyter-widgets/controls",
            "_model_module_version": "1.5.0",
            "_model_name": "HTMLModel",
            "_view_count": null,
            "_view_module": "@jupyter-widgets/controls",
            "_view_module_version": "1.5.0",
            "_view_name": "HTMLView",
            "description": "",
            "description_tooltip": null,
            "layout": "IPY_MODEL_5749d5e460174c09b60ef8240fd48ff0",
            "placeholder": "​",
            "style": "IPY_MODEL_632ec9ded48445f78653e5bac1eb471d",
            "value": "100%"
          }
        },
        "eba518e4c33640409fd16327fb9f54e1": {
          "model_module": "@jupyter-widgets/controls",
          "model_module_version": "1.5.0",
          "model_name": "DescriptionStyleModel",
          "state": {
            "_model_module": "@jupyter-widgets/controls",
            "_model_module_version": "1.5.0",
            "_model_name": "DescriptionStyleModel",
            "_view_count": null,
            "_view_module": "@jupyter-widgets/base",
            "_view_module_version": "1.2.0",
            "_view_name": "StyleView",
            "description_width": ""
          }
        },
        "f2e5184f63414673b18ee6c5d27dda5b": {
          "model_module": "@jupyter-widgets/controls",
          "model_module_version": "1.5.0",
          "model_name": "HTMLModel",
          "state": {
            "_dom_classes": [],
            "_model_module": "@jupyter-widgets/controls",
            "_model_module_version": "1.5.0",
            "_model_name": "HTMLModel",
            "_view_count": null,
            "_view_module": "@jupyter-widgets/controls",
            "_view_module_version": "1.5.0",
            "_view_name": "HTMLView",
            "description": "",
            "description_tooltip": null,
            "layout": "IPY_MODEL_8b61dc255d5f4a23a1152f439ad2deb2",
            "placeholder": "​",
            "style": "IPY_MODEL_a16a8c9303734561a70af1ff25f1c9de",
            "value": "100%"
          }
        },
        "f527671626cf406493b622bcfd3f7a4c": {
          "model_module": "@jupyter-widgets/controls",
          "model_module_version": "1.5.0",
          "model_name": "HBoxModel",
          "state": {
            "_dom_classes": [],
            "_model_module": "@jupyter-widgets/controls",
            "_model_module_version": "1.5.0",
            "_model_name": "HBoxModel",
            "_view_count": null,
            "_view_module": "@jupyter-widgets/controls",
            "_view_module_version": "1.5.0",
            "_view_name": "HBoxView",
            "box_style": "",
            "children": [
              "IPY_MODEL_023894ade345439c93b7597d6830d6ce",
              "IPY_MODEL_a98da564fae1402cbf7d75686c240c2b",
              "IPY_MODEL_f9fe402824f04eb98df1df42973a4f22"
            ],
            "layout": "IPY_MODEL_e4cb3ce6b9a04555bfe81ce7ad6dede2"
          }
        },
        "f915d332c88840a7944ddd729128fb2f": {
          "model_module": "@jupyter-widgets/base",
          "model_module_version": "1.2.0",
          "model_name": "LayoutModel",
          "state": {
            "_model_module": "@jupyter-widgets/base",
            "_model_module_version": "1.2.0",
            "_model_name": "LayoutModel",
            "_view_count": null,
            "_view_module": "@jupyter-widgets/base",
            "_view_module_version": "1.2.0",
            "_view_name": "LayoutView",
            "align_content": null,
            "align_items": null,
            "align_self": null,
            "border": null,
            "bottom": null,
            "display": null,
            "flex": null,
            "flex_flow": null,
            "grid_area": null,
            "grid_auto_columns": null,
            "grid_auto_flow": null,
            "grid_auto_rows": null,
            "grid_column": null,
            "grid_gap": null,
            "grid_row": null,
            "grid_template_areas": null,
            "grid_template_columns": null,
            "grid_template_rows": null,
            "height": null,
            "justify_content": null,
            "justify_items": null,
            "left": null,
            "margin": null,
            "max_height": null,
            "max_width": null,
            "min_height": null,
            "min_width": null,
            "object_fit": null,
            "object_position": null,
            "order": null,
            "overflow": null,
            "overflow_x": null,
            "overflow_y": null,
            "padding": null,
            "right": null,
            "top": null,
            "visibility": null,
            "width": null
          }
        },
        "f9fe402824f04eb98df1df42973a4f22": {
          "model_module": "@jupyter-widgets/controls",
          "model_module_version": "1.5.0",
          "model_name": "HTMLModel",
          "state": {
            "_dom_classes": [],
            "_model_module": "@jupyter-widgets/controls",
            "_model_module_version": "1.5.0",
            "_model_name": "HTMLModel",
            "_view_count": null,
            "_view_module": "@jupyter-widgets/controls",
            "_view_module_version": "1.5.0",
            "_view_name": "HTMLView",
            "description": "",
            "description_tooltip": null,
            "layout": "IPY_MODEL_8e6ba1a834844ce9bfc38b260509f8d1",
            "placeholder": "​",
            "style": "IPY_MODEL_eba518e4c33640409fd16327fb9f54e1",
            "value": " 235/235 [00:18&lt;00:00, 13.47it/s]"
          }
        }
      }
    }
  },
  "nbformat": 4,
  "nbformat_minor": 0
}
